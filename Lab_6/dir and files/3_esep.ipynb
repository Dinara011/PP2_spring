{
 "cells": [
  {
   "cell_type": "code",
   "execution_count": 1,
   "id": "7c6b9142-b846-42d8-9ed0-d0c0ee04ede3",
   "metadata": {},
   "outputs": [
    {
     "name": "stdout",
     "output_type": "stream",
     "text": [
      "Name of file:  Desktop\n",
      "name of directory:  /Users/aidarkyzydinara\n",
      "success\n"
     ]
    }
   ],
   "source": [
    "import os\n",
    "path= r\"/Users/aidarkyzydinara/Desktop\"\n",
    "def checker(path):\n",
    "    if os.path.exists(path):\n",
    "        print(\"Name of file: \", os.path.basename(path))\n",
    "        print(\"name of directory: \", os.path.dirname(path))\n",
    "        return \"success\"\n",
    "    \n",
    "print(checker(path))"
   ]
  },
  {
   "cell_type": "code",
   "execution_count": null,
   "id": "196b7f31-d3d0-4d42-aa55-63f068605ca8",
   "metadata": {},
   "outputs": [],
   "source": []
  }
 ],
 "metadata": {
  "kernelspec": {
   "display_name": "Python [conda env:base] *",
   "language": "python",
   "name": "conda-base-py"
  },
  "language_info": {
   "codemirror_mode": {
    "name": "ipython",
    "version": 3
   },
   "file_extension": ".py",
   "mimetype": "text/x-python",
   "name": "python",
   "nbconvert_exporter": "python",
   "pygments_lexer": "ipython3",
   "version": "3.12.7"
  }
 },
 "nbformat": 4,
 "nbformat_minor": 5
}
