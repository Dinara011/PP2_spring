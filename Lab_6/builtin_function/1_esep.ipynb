{
 "cells": [
  {
   "cell_type": "code",
   "execution_count": 19,
   "id": "ea358009-2b2a-4b73-9a42-b6797cfa8314",
   "metadata": {},
   "outputs": [
    {
     "name": "stdin",
     "output_type": "stream",
     "text": [
      "Сандарды пробелмен бөліп енгіз:  1 2 3\n"
     ]
    },
    {
     "name": "stdout",
     "output_type": "stream",
     "text": [
      "Көбейтіндісі: 6\n"
     ]
    }
   ],
   "source": [
    "import math\n",
    "\n",
    "# Пайдаланушыдан сандарды енгізу\n",
    "sandar_tizimi = input(\"Сандарды пробелмен бөліп енгіз: \")\n",
    "sandar = list(map(int, sandar_tizimi.split()))  # Тізімге айналдыру\n",
    "\n",
    "# Барлық сандарды көбейту\n",
    "result = math.prod(sandar)\n",
    "\n",
    "# Нәтижені шығару\n",
    "print(\"Көбейтіндісі:\", result)\n"
   ]
  },
  {
   "cell_type": "code",
   "execution_count": null,
   "id": "c9b2bd03-477c-481a-894d-3285cc538d7d",
   "metadata": {},
   "outputs": [],
   "source": []
  }
 ],
 "metadata": {
  "kernelspec": {
   "display_name": "Python [conda env:base] *",
   "language": "python",
   "name": "conda-base-py"
  },
  "language_info": {
   "codemirror_mode": {
    "name": "ipython",
    "version": 3
   },
   "file_extension": ".py",
   "mimetype": "text/x-python",
   "name": "python",
   "nbconvert_exporter": "python",
   "pygments_lexer": "ipython3",
   "version": "3.12.7"
  }
 },
 "nbformat": 4,
 "nbformat_minor": 5
}
