{
 "cells": [
  {
   "cell_type": "code",
   "execution_count": null,
   "id": "2f858486-6ba5-4168-9240-9dd41dcae145",
   "metadata": {},
   "outputs": [
    {
     "name": "stdout",
     "output_type": "stream",
     "text": [
      "pygame 2.6.1 (SDL 2.28.4, Python 3.12.7)\n",
      "Hello from the pygame community. https://www.pygame.org/contribute.html\n"
     ]
    }
   ],
   "source": [
    "import pygame \n",
    "import time\n",
    "import math\n",
    "pygame.init()\n",
    "\n",
    "#пайда болатын экран ұзындықтары\n",
    "screen = pygame.display.set_mode((800, 600))\n",
    "clock = pygame.time.Clock()\n",
    "\n",
    "#пайда болған экранның жоғар жағындағы атау\n",
    "pygame.display.set_caption(\"Mickey clock\")\n",
    "\n",
    "#суреттерді пайда болған экранға енгіземіз\n",
    "leftarm = pygame.image.load(\"images/leftarm.png\")\n",
    "rightarm = pygame.image.load(\"images/rightarm.png\")\n",
    "mainclock = pygame.transform.scale(pygame.image.load(\"images/clock.png\"), (800, 600))\n",
    "\n",
    "done = False\n",
    "\n",
    "while not done: \n",
    "    for event in pygame.event.get():\n",
    "        if event.type == pygame.QUIT:\n",
    "            done = True\n",
    "    #localtime арқылы минут пен сикундты анықтап аламыз\n",
    "    current_time = time.localtime()\n",
    "    minute = current_time.tm_min\n",
    "    second = current_time.tm_sec\n",
    "    \n",
    "    #минут пен сикундтың бұрышын алып аламыз\n",
    "    #қазіргі минут * 360 градус / 60 минут + қазіргі секундты қосамыз \n",
    "    minute_angle = minute * 6    + (second / 60) * 6   \n",
    "    second_angle = second * 6  \n",
    "    \n",
    "    #экран бетіне пайда фонмен болуы\n",
    "    screen.blit(mainclock, (0,0))\n",
    "    \n",
    "    #оң қол минутты орналастыру\n",
    "    rotated_rightarm = pygame.transform.rotate(pygame.transform.scale(rightarm, (800, 600)), -minute_angle)\n",
    "    rightarmrect = rotated_rightarm.get_rect(center=(800 // 2, 600 // 2 + 12))\n",
    "    screen.blit(rotated_rightarm, rightarmrect)\n",
    "    \n",
    "    #сол қол секундты орналастыру\n",
    "    rotated_leftarm = pygame.transform.rotate(pygame.transform.scale(leftarm, (40.95, 682.5)), -second_angle)\n",
    "    leftarmrect = rotated_leftarm.get_rect(center=(800 // 2, 600 // 2 + 10))\n",
    "    screen.blit(rotated_leftarm, leftarmrect)\n",
    "    \n",
    "    pygame.display.flip() #окноны жаңартады\n",
    "    clock.tick(60) #fps\n",
    "    \n",
    "pygame.quit()"
   ]
  },
  {
   "cell_type": "code",
   "execution_count": null,
   "id": "73c54af4-91e5-4f2b-aa97-9951e53b1668",
   "metadata": {},
   "outputs": [],
   "source": []
  },
  {
   "cell_type": "code",
   "execution_count": null,
   "id": "83e90b62-311b-4ce5-873d-6998b22547c0",
   "metadata": {},
   "outputs": [],
   "source": []
  }
 ],
 "metadata": {
  "kernelspec": {
   "display_name": "Python [conda env:base] *",
   "language": "python",
   "name": "conda-base-py"
  },
  "language_info": {
   "codemirror_mode": {
    "name": "ipython",
    "version": 3
   },
   "file_extension": ".py",
   "mimetype": "text/x-python",
   "name": "python",
   "nbconvert_exporter": "python",
   "pygments_lexer": "ipython3",
   "version": "3.12.7"
  }
 },
 "nbformat": 4,
 "nbformat_minor": 5
}
