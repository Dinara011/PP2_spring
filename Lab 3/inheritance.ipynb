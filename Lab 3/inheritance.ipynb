{
 "cells": [
  {
   "cell_type": "markdown",
   "id": "ca8e2fa2-daa1-4e4d-b856-497f8590bf6e",
   "metadata": {},
   "source": [
    "Create a Parent Class"
   ]
  },
  {
   "cell_type": "code",
   "execution_count": 2,
   "id": "50386959-a3b6-4708-a452-1a70cb8790c6",
   "metadata": {},
   "outputs": [
    {
     "name": "stdout",
     "output_type": "stream",
     "text": [
      "John Doe\n"
     ]
    }
   ],
   "source": [
    "class Person:\n",
    "  def __init__(self, fname, lname):\n",
    "    self.firstname = fname\n",
    "    self.lastname = lname\n",
    "\n",
    "  def printname(self):\n",
    "    print(self.firstname, self.lastname)\n",
    "\n",
    "#Use the Person class to create an object, and then execute the printname method:\n",
    "\n",
    "x = Person(\"John\", \"Doe\")\n",
    "x.printname()"
   ]
  },
  {
   "cell_type": "markdown",
   "id": "ef8a5c5c-20fd-4646-be02-879a46fde5ee",
   "metadata": {},
   "source": [
    "Create a Child Class"
   ]
  },
  {
   "cell_type": "code",
   "execution_count": 5,
   "id": "4bc0010e-b97f-4012-ba55-ce8b13dfa0e0",
   "metadata": {},
   "outputs": [],
   "source": [
    "class Student(Person):\n",
    "  pass"
   ]
  },
  {
   "cell_type": "code",
   "execution_count": 7,
   "id": "01fd240f-1de6-44d8-8ed1-fdb24c69dd4d",
   "metadata": {},
   "outputs": [
    {
     "name": "stdout",
     "output_type": "stream",
     "text": [
      "Mike Olsen\n"
     ]
    }
   ],
   "source": [
    "x = Student(\"Mike\", \"Olsen\")\n",
    "x.printname()"
   ]
  },
  {
   "cell_type": "markdown",
   "id": "7033f60c-5374-4f53-8e6a-963b69c45c4b",
   "metadata": {},
   "source": [
    "Add the __init__() Function"
   ]
  },
  {
   "cell_type": "code",
   "execution_count": 11,
   "id": "8249af2f-89b3-411e-a92b-8c1fc04f27e5",
   "metadata": {},
   "outputs": [
    {
     "ename": "SyntaxError",
     "evalue": "incomplete input (322465492.py, line 3)",
     "output_type": "error",
     "traceback": [
      "\u001b[0;36m  Cell \u001b[0;32mIn[11], line 3\u001b[0;36m\u001b[0m\n\u001b[0;31m    #add properties etc.\u001b[0m\n\u001b[0m                        ^\u001b[0m\n\u001b[0;31mSyntaxError\u001b[0m\u001b[0;31m:\u001b[0m incomplete input\n"
     ]
    }
   ],
   "source": [
    "class Student(Person):\n",
    "  def __init__(self, fname, lname):\n",
    "    #add properties etc."
   ]
  },
  {
   "cell_type": "code",
   "execution_count": 13,
   "id": "412e0532-2acf-43fb-ab2f-1a60855c41d7",
   "metadata": {},
   "outputs": [],
   "source": [
    "class Student(Person):\n",
    "  def __init__(self, fname, lname):\n",
    "    Person.__init__(self, fname, lname)"
   ]
  },
  {
   "cell_type": "markdown",
   "id": "9573bf51-4784-4ccf-a3c0-605e0e8bf9de",
   "metadata": {},
   "source": [
    "Use the super() Function"
   ]
  },
  {
   "cell_type": "code",
   "execution_count": 19,
   "id": "bcd76feb-7ee8-465a-bda1-e5db7897dd8e",
   "metadata": {},
   "outputs": [],
   "source": [
    "class Student(Person):\n",
    "  def __init__(self, fname, lname):\n",
    "    super().__init__(fname, lname)"
   ]
  },
  {
   "cell_type": "markdown",
   "id": "f5437583-67b2-4404-bf56-8579e34ed2d4",
   "metadata": {},
   "source": [
    "Add Properties"
   ]
  },
  {
   "cell_type": "code",
   "execution_count": 22,
   "id": "ae131c1d-2702-4861-917d-3aa842b2f1d0",
   "metadata": {},
   "outputs": [],
   "source": [
    "class Student(Person):\n",
    "  def __init__(self, fname, lname):\n",
    "    super().__init__(fname, lname)\n",
    "    self.graduationyear = 2019"
   ]
  },
  {
   "cell_type": "code",
   "execution_count": 24,
   "id": "b293f873-2edb-4bd4-b7a3-241febe0e524",
   "metadata": {},
   "outputs": [],
   "source": [
    "class Student(Person):\n",
    "  def __init__(self, fname, lname, year):\n",
    "    super().__init__(fname, lname)\n",
    "    self.graduationyear = year\n",
    "\n",
    "x = Student(\"Mike\", \"Olsen\", 2019)"
   ]
  },
  {
   "cell_type": "markdown",
   "id": "b2e11998-2509-4d88-9fa2-a57faa672ab8",
   "metadata": {},
   "source": [
    "Add Methods"
   ]
  },
  {
   "cell_type": "code",
   "execution_count": 27,
   "id": "c3f821d2-f33c-42f0-85e6-65d6d7673657",
   "metadata": {},
   "outputs": [],
   "source": [
    "class Student(Person):\n",
    "  def __init__(self, fname, lname, year):\n",
    "    super().__init__(fname, lname)\n",
    "    self.graduationyear = year\n",
    "\n",
    "  def welcome(self):\n",
    "    print(\"Welcome\", self.firstname, self.lastname, \"to the class of\", self.graduationyear)"
   ]
  },
  {
   "cell_type": "code",
   "execution_count": null,
   "id": "d4b62678-442a-47c9-ba70-4f1e0aa008fe",
   "metadata": {},
   "outputs": [],
   "source": []
  }
 ],
 "metadata": {
  "kernelspec": {
   "display_name": "Python [conda env:base] *",
   "language": "python",
   "name": "conda-base-py"
  },
  "language_info": {
   "codemirror_mode": {
    "name": "ipython",
    "version": 3
   },
   "file_extension": ".py",
   "mimetype": "text/x-python",
   "name": "python",
   "nbconvert_exporter": "python",
   "pygments_lexer": "ipython3",
   "version": "3.12.7"
  }
 },
 "nbformat": 4,
 "nbformat_minor": 5
}
