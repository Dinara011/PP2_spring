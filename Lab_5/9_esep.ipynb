{
 "cells": [
  {
   "cell_type": "markdown",
   "id": "bf0f6f69-cce8-46b3-b101-36e1ac8b7967",
   "metadata": {},
   "source": [
    "Write a Python program to insert spaces between words starting with capital letters.\n",
    " "
   ]
  },
  {
   "cell_type": "code",
   "execution_count": null,
   "id": "b33b7c2e-b296-4455-92f5-9d3f10e7e8f4",
   "metadata": {},
   "outputs": [],
   "source": [
    "import re\n",
    "text = input()\n",
    "print(re.sub(r'(?<!^)(?=[A-Z])', ' ' ,text))"
   ]
  },
  {
   "cell_type": "code",
   "execution_count": null,
   "id": "1fb55d13-f1d0-4e84-9e0c-a40f8e807da8",
   "metadata": {},
   "outputs": [],
   "source": []
  }
 ],
 "metadata": {
  "kernelspec": {
   "display_name": "Python [conda env:base] *",
   "language": "python",
   "name": "conda-base-py"
  },
  "language_info": {
   "codemirror_mode": {
    "name": "ipython",
    "version": 3
   },
   "file_extension": ".py",
   "mimetype": "text/x-python",
   "name": "python",
   "nbconvert_exporter": "python",
   "pygments_lexer": "ipython3",
   "version": "3.12.7"
  }
 },
 "nbformat": 4,
 "nbformat_minor": 5
}
