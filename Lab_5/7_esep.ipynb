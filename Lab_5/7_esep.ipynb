{
 "cells": [
  {
   "cell_type": "markdown",
   "id": "978f3cab-3e72-4202-b436-c93356ef6c7f",
   "metadata": {},
   "source": [
    "Write a python program to convert snake case string to camel case string."
   ]
  },
  {
   "cell_type": "code",
   "execution_count": null,
   "id": "2238cc3f-75c1-48a4-b159-8c92649c07ce",
   "metadata": {},
   "outputs": [],
   "source": [
    "import re\n",
    "text = input()\n",
    "print(''.join(word.capitalize() for word in text.split('_')))"
   ]
  },
  {
   "cell_type": "code",
   "execution_count": null,
   "id": "9c97fbeb-9bc9-488a-a919-268cd1a2cc64",
   "metadata": {},
   "outputs": [],
   "source": []
  }
 ],
 "metadata": {
  "kernelspec": {
   "display_name": "Python [conda env:base] *",
   "language": "python",
   "name": "conda-base-py"
  },
  "language_info": {
   "codemirror_mode": {
    "name": "ipython",
    "version": 3
   },
   "file_extension": ".py",
   "mimetype": "text/x-python",
   "name": "python",
   "nbconvert_exporter": "python",
   "pygments_lexer": "ipython3",
   "version": "3.12.7"
  }
 },
 "nbformat": 4,
 "nbformat_minor": 5
}
