{
 "cells": [
  {
   "cell_type": "code",
   "execution_count": 1,
   "id": "cff7bc58-b3e9-4621-bedf-cbd7d1830f96",
   "metadata": {},
   "outputs": [
    {
     "name": "stdout",
     "output_type": "stream",
     "text": [
      "pygame 2.6.1 (SDL 2.28.4, Python 3.12.7)\n",
      "Hello from the pygame community. https://www.pygame.org/contribute.html\n"
     ]
    }
   ],
   "source": [
    "import pygame\n",
    "\n",
    "pygame.init()\n",
    "\n",
    "window_size = (800, 600)\n",
    "screen = pygame.display.set_mode(window_size)\n",
    "pygame.display.set_caption(\"Draw Circle\")\n",
    "\n",
    "ball_color = pygame.Color('red')\n",
    "bg_color = pygame.Color('white')\n",
    "\n",
    "ball_pos = [400, 300]\n",
    "ball_radius = 25\n",
    "speed = 20\n",
    "\n",
    "clock = pygame.time.Clock()\n",
    "\n",
    "running = True\n",
    "while running:\n",
    "    for event in pygame.event.get():\n",
    "        if event.type == pygame.QUIT:\n",
    "            running = False  \n",
    "    \n",
    "    keys = pygame.key.get_pressed()\n",
    "    \n",
    "    if keys[pygame.K_UP]: \n",
    "        ball_pos[1] = max(ball_pos[1] - speed, ball_radius)\n",
    "    if keys[pygame.K_DOWN]:\n",
    "        ball_pos[1] = min(ball_pos[1] + speed, window_size[1] - ball_radius)\n",
    "    if keys[pygame.K_LEFT]:\n",
    "        ball_pos[0] = max(ball_pos[0] - speed, ball_radius)\n",
    "    if keys[pygame.K_RIGHT]:\n",
    "        ball_pos[0] = min(ball_pos[0] + speed, window_size[0] - ball_radius)\n",
    "    \n",
    "    screen.fill(bg_color)\n",
    "    pygame.draw.circle(screen, ball_color, ball_pos, ball_radius)\n",
    "    pygame.display.flip()\n",
    "    \n",
    "    clock.tick(30)\n",
    "\n",
    "pygame.quit()\n"
   ]
  },
  {
   "cell_type": "code",
   "execution_count": null,
   "id": "581ee7e6-b9b7-404b-8b65-c630e91284a3",
   "metadata": {},
   "outputs": [],
   "source": []
  }
 ],
 "metadata": {
  "kernelspec": {
   "display_name": "Python [conda env:base] *",
   "language": "python",
   "name": "conda-base-py"
  },
  "language_info": {
   "codemirror_mode": {
    "name": "ipython",
    "version": 3
   },
   "file_extension": ".py",
   "mimetype": "text/x-python",
   "name": "python",
   "nbconvert_exporter": "python",
   "pygments_lexer": "ipython3",
   "version": "3.12.7"
  }
 },
 "nbformat": 4,
 "nbformat_minor": 5
}
