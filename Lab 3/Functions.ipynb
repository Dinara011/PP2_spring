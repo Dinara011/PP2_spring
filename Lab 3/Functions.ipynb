{
 "cells": [
  {
   "cell_type": "markdown",
   "id": "36c93729-6256-44cb-b371-4acdd355efdd",
   "metadata": {},
   "source": [
    "Creating a Function"
   ]
  },
  {
   "cell_type": "code",
   "execution_count": 4,
   "id": "475d2338-7050-4bd2-b740-e121e584ccbc",
   "metadata": {},
   "outputs": [],
   "source": [
    "#In Python a function is defined using the def keyword:\n",
    "def my_function():\n",
    "  print(\"Hello from a function\")"
   ]
  },
  {
   "cell_type": "markdown",
   "id": "5df1f433-5727-4e68-9474-ed716f67f9e7",
   "metadata": {},
   "source": [
    "Calling a Function"
   ]
  },
  {
   "cell_type": "code",
   "execution_count": 8,
   "id": "b8c5796e-ab2b-445b-bdfc-cfa326566f85",
   "metadata": {},
   "outputs": [
    {
     "name": "stdout",
     "output_type": "stream",
     "text": [
      "Hello from a function\n"
     ]
    }
   ],
   "source": [
    "def my_function():\n",
    "  print(\"Hello from a function\")\n",
    "\n",
    "my_function()"
   ]
  },
  {
   "cell_type": "markdown",
   "id": "1696d865-2374-4a0e-81e0-6a78d2338d9a",
   "metadata": {},
   "source": [
    "Arguments"
   ]
  },
  {
   "cell_type": "code",
   "execution_count": 11,
   "id": "5d292c7c-8f0e-4c3e-a4d4-c2a804a07b18",
   "metadata": {},
   "outputs": [
    {
     "name": "stdout",
     "output_type": "stream",
     "text": [
      "Emil Refsnes\n",
      "Tobias Refsnes\n",
      "Linus Refsnes\n"
     ]
    }
   ],
   "source": [
    "def my_function(fname):\n",
    "  print(fname + \" Refsnes\")\n",
    "\n",
    "my_function(\"Emil\")\n",
    "my_function(\"Tobias\")\n",
    "my_function(\"Linus\")"
   ]
  },
  {
   "cell_type": "markdown",
   "id": "7788ed25-9863-4c78-a188-c5bbb7007223",
   "metadata": {},
   "source": [
    "Number of Arguments"
   ]
  },
  {
   "cell_type": "code",
   "execution_count": 14,
   "id": "8a949163-46f9-488f-8d67-34c8b944e1c4",
   "metadata": {},
   "outputs": [
    {
     "name": "stdout",
     "output_type": "stream",
     "text": [
      "Emil Refsnes\n"
     ]
    }
   ],
   "source": [
    "#This function expects 2 arguments, and gets 2 arguments:\n",
    "def my_function(fname, lname):\n",
    "  print(fname + \" \" + lname)\n",
    "\n",
    "my_function(\"Emil\", \"Refsnes\")\n"
   ]
  },
  {
   "cell_type": "code",
   "execution_count": 58,
   "id": "b234c20c-880e-4745-b854-c3296103d755",
   "metadata": {},
   "outputs": [
    {
     "ename": "TypeError",
     "evalue": "my_function() missing 1 required positional argument: 'lname'",
     "output_type": "error",
     "traceback": [
      "\u001b[0;31m---------------------------------------------------------------------------\u001b[0m",
      "\u001b[0;31mTypeError\u001b[0m                                 Traceback (most recent call last)",
      "Cell \u001b[0;32mIn[58], line 5\u001b[0m\n\u001b[1;32m      2\u001b[0m \u001b[38;5;28;01mdef\u001b[39;00m \u001b[38;5;21mmy_function\u001b[39m(fname, lname):\n\u001b[1;32m      3\u001b[0m   \u001b[38;5;28mprint\u001b[39m(fname \u001b[38;5;241m+\u001b[39m \u001b[38;5;124m\"\u001b[39m\u001b[38;5;124m \u001b[39m\u001b[38;5;124m\"\u001b[39m \u001b[38;5;241m+\u001b[39m lname)\n\u001b[0;32m----> 5\u001b[0m my_function(\u001b[38;5;124m\"\u001b[39m\u001b[38;5;124mEmil\u001b[39m\u001b[38;5;124m\"\u001b[39m)\n",
      "\u001b[0;31mTypeError\u001b[0m: my_function() missing 1 required positional argument: 'lname'"
     ]
    }
   ],
   "source": [
    "#This function expects 2 arguments, but gets only 1:\n",
    "def my_function(fname, lname):\n",
    "  print(fname + \" \" + lname)\n",
    "\n",
    "my_function(\"Emil\")"
   ]
  },
  {
   "cell_type": "markdown",
   "id": "d9248b9a-15a4-4e6e-a457-9500a11858ff",
   "metadata": {},
   "source": [
    "Arbitrary Arguments, *args"
   ]
  },
  {
   "cell_type": "code",
   "execution_count": 61,
   "id": "9570151b-2d8e-43af-8be3-415a0ff4b44e",
   "metadata": {},
   "outputs": [
    {
     "name": "stdout",
     "output_type": "stream",
     "text": [
      "The youngest child is Linus\n"
     ]
    }
   ],
   "source": [
    "def my_function(*kids):\n",
    "  print(\"The youngest child is \" + kids[2])\n",
    "\n",
    "my_function(\"Emil\", \"Tobias\", \"Linus\")"
   ]
  },
  {
   "cell_type": "markdown",
   "id": "c9713e5f-577a-4165-b0d9-8d2d4501ffc4",
   "metadata": {},
   "source": [
    "Keyword Arguments"
   ]
  },
  {
   "cell_type": "code",
   "execution_count": 64,
   "id": "61e083b7-d708-4567-96f5-3f7e1449aa80",
   "metadata": {},
   "outputs": [
    {
     "name": "stdout",
     "output_type": "stream",
     "text": [
      "The youngest child is Linus\n"
     ]
    }
   ],
   "source": [
    "def my_function(child3, child2, child1):\n",
    "  print(\"The youngest child is \" + child3)\n",
    "\n",
    "my_function(child1 = \"Emil\", child2 = \"Tobias\", child3 = \"Linus\")"
   ]
  },
  {
   "cell_type": "markdown",
   "id": "c61f1b2c-26bc-4aff-a39a-b980cf84602b",
   "metadata": {},
   "source": [
    "Arbitrary Keyword Arguments, **kwargs"
   ]
  },
  {
   "cell_type": "code",
   "execution_count": 67,
   "id": "3abd9e90-08ec-4fc9-9cf9-b5941a7917f6",
   "metadata": {},
   "outputs": [
    {
     "name": "stdout",
     "output_type": "stream",
     "text": [
      "His last name is Refsnes\n"
     ]
    }
   ],
   "source": [
    "\"\"\"If the number of keyword arguments is unknown, \n",
    "add a double ** before the parameter name\"\"\"\n",
    "def my_function(**kid):\n",
    "  print(\"His last name is \" + kid[\"lname\"])\n",
    "\n",
    "my_function(fname = \"Tobias\", lname = \"Refsnes\")"
   ]
  },
  {
   "cell_type": "markdown",
   "id": "45f93efb-5439-42c0-a2d7-029d56e9d2ac",
   "metadata": {},
   "source": [
    "Default Parameter Value"
   ]
  },
  {
   "cell_type": "code",
   "execution_count": 70,
   "id": "921b91a8-393f-4138-8dfa-b8c7495edc2b",
   "metadata": {},
   "outputs": [
    {
     "name": "stdout",
     "output_type": "stream",
     "text": [
      "I am from Sweden\n",
      "I am from India\n",
      "I am from Norway\n",
      "I am from Brazil\n"
     ]
    }
   ],
   "source": [
    "def my_function(country = \"Norway\"):\n",
    "  print(\"I am from \" + country)\n",
    "\n",
    "my_function(\"Sweden\")\n",
    "my_function(\"India\")\n",
    "my_function()\n",
    "my_function(\"Brazil\")"
   ]
  },
  {
   "cell_type": "markdown",
   "id": "8e378b21-8863-44f3-897b-1e1671625c68",
   "metadata": {},
   "source": [
    "Passing a List as an Argument"
   ]
  },
  {
   "cell_type": "code",
   "execution_count": 73,
   "id": "465d7183-6e89-4521-ba27-ea1ffdcf7423",
   "metadata": {},
   "outputs": [
    {
     "name": "stdout",
     "output_type": "stream",
     "text": [
      "apple\n",
      "banana\n",
      "cherry\n"
     ]
    }
   ],
   "source": [
    "def my_function(food):\n",
    "  for x in food:\n",
    "    print(x)\n",
    "\n",
    "fruits = [\"apple\", \"banana\", \"cherry\"]\n",
    "\n",
    "my_function(fruits)"
   ]
  },
  {
   "cell_type": "markdown",
   "id": "a6be85b8-372b-44c5-bd08-240160657dc6",
   "metadata": {},
   "source": [
    "Return Values"
   ]
  },
  {
   "cell_type": "code",
   "execution_count": 76,
   "id": "2a93d17d-fa22-4a8a-8f07-62fa3baf62e8",
   "metadata": {},
   "outputs": [
    {
     "name": "stdout",
     "output_type": "stream",
     "text": [
      "15\n",
      "25\n",
      "45\n"
     ]
    }
   ],
   "source": [
    "def my_function(x):\n",
    "  return 5 * x\n",
    "\n",
    "print(my_function(3))\n",
    "print(my_function(5))\n",
    "print(my_function(9))"
   ]
  },
  {
   "cell_type": "markdown",
   "id": "61d83e3f-29d9-44ef-a598-e4bcd4e9e6cd",
   "metadata": {},
   "source": [
    "The pass Statement"
   ]
  },
  {
   "cell_type": "code",
   "execution_count": 79,
   "id": "258e191d-f51b-4b4a-92d4-fae4dd0b28f5",
   "metadata": {},
   "outputs": [],
   "source": [
    "def myfunction():\n",
    "  pass"
   ]
  },
  {
   "cell_type": "code",
   "execution_count": 81,
   "id": "9ef49bc4-4522-4a97-8f7f-3b84477e5c50",
   "metadata": {},
   "outputs": [
    {
     "name": "stdout",
     "output_type": "stream",
     "text": [
      "3\n"
     ]
    }
   ],
   "source": [
    "def my_function(x):\n",
    "  print(x)\n",
    "\n",
    "my_function(x = 3)"
   ]
  },
  {
   "cell_type": "code",
   "execution_count": 83,
   "id": "41fd4804-bdd6-495f-bbf4-201e0a764f57",
   "metadata": {},
   "outputs": [
    {
     "ename": "TypeError",
     "evalue": "my_function() got some positional-only arguments passed as keyword arguments: 'x'",
     "output_type": "error",
     "traceback": [
      "\u001b[0;31m---------------------------------------------------------------------------\u001b[0m",
      "\u001b[0;31mTypeError\u001b[0m                                 Traceback (most recent call last)",
      "Cell \u001b[0;32mIn[83], line 4\u001b[0m\n\u001b[1;32m      1\u001b[0m \u001b[38;5;28;01mdef\u001b[39;00m \u001b[38;5;21mmy_function\u001b[39m(x, \u001b[38;5;241m/\u001b[39m):\n\u001b[1;32m      2\u001b[0m   \u001b[38;5;28mprint\u001b[39m(x)\n\u001b[0;32m----> 4\u001b[0m my_function(x \u001b[38;5;241m=\u001b[39m \u001b[38;5;241m3\u001b[39m)\n",
      "\u001b[0;31mTypeError\u001b[0m: my_function() got some positional-only arguments passed as keyword arguments: 'x'"
     ]
    }
   ],
   "source": [
    "def my_function(x, /):\n",
    "  print(x)\n",
    "\n",
    "my_function(x = 3)"
   ]
  },
  {
   "cell_type": "markdown",
   "id": "b48703a7-e43f-4b72-9f37-d878d8ac96d7",
   "metadata": {},
   "source": [
    "Keyword-Only Arguments"
   ]
  },
  {
   "cell_type": "code",
   "execution_count": 86,
   "id": "d20cdeed-1b63-4c0f-80dd-e4317fbf4148",
   "metadata": {},
   "outputs": [
    {
     "name": "stdout",
     "output_type": "stream",
     "text": [
      "3\n"
     ]
    }
   ],
   "source": [
    "def my_function(*, x):\n",
    "  print(x)\n",
    "\n",
    "my_function(x = 3)"
   ]
  },
  {
   "cell_type": "code",
   "execution_count": 88,
   "id": "d96575b0-8e4b-4aa0-aee3-42401bcb5b7d",
   "metadata": {},
   "outputs": [
    {
     "name": "stdout",
     "output_type": "stream",
     "text": [
      "3\n"
     ]
    }
   ],
   "source": [
    "def my_function(x):\n",
    "  print(x)\n",
    "\n",
    "my_function(3)"
   ]
  },
  {
   "cell_type": "code",
   "execution_count": 90,
   "id": "5d5c2160-43e0-47af-b8aa-13e09524b425",
   "metadata": {},
   "outputs": [
    {
     "ename": "TypeError",
     "evalue": "my_function() takes 0 positional arguments but 1 was given",
     "output_type": "error",
     "traceback": [
      "\u001b[0;31m---------------------------------------------------------------------------\u001b[0m",
      "\u001b[0;31mTypeError\u001b[0m                                 Traceback (most recent call last)",
      "Cell \u001b[0;32mIn[90], line 4\u001b[0m\n\u001b[1;32m      1\u001b[0m \u001b[38;5;28;01mdef\u001b[39;00m \u001b[38;5;21mmy_function\u001b[39m(\u001b[38;5;241m*\u001b[39m, x):\n\u001b[1;32m      2\u001b[0m   \u001b[38;5;28mprint\u001b[39m(x)\n\u001b[0;32m----> 4\u001b[0m my_function(\u001b[38;5;241m3\u001b[39m)\n",
      "\u001b[0;31mTypeError\u001b[0m: my_function() takes 0 positional arguments but 1 was given"
     ]
    }
   ],
   "source": [
    "def my_function(*, x):\n",
    "  print(x)\n",
    "\n",
    "my_function(3)"
   ]
  },
  {
   "cell_type": "markdown",
   "id": "8840b78a-d646-457a-ab5e-d8f10fd89533",
   "metadata": {},
   "source": [
    "Combine Positional-Only and Keyword-Only"
   ]
  },
  {
   "cell_type": "code",
   "execution_count": 93,
   "id": "db7bd555-b073-4b1b-9bd4-64c76df66426",
   "metadata": {},
   "outputs": [
    {
     "name": "stdout",
     "output_type": "stream",
     "text": [
      "26\n"
     ]
    }
   ],
   "source": [
    "def my_function(a, b, /, *, c, d):\n",
    "  print(a + b + c + d)\n",
    "\n",
    "my_function(5, 6, c = 7, d = 8)"
   ]
  },
  {
   "cell_type": "markdown",
   "id": "e8095609-e646-42c8-a640-c61b3b299d39",
   "metadata": {},
   "source": [
    "Recursion"
   ]
  },
  {
   "cell_type": "code",
   "execution_count": 96,
   "id": "96b967dc-a9ca-4ebe-8159-6c695fc53d93",
   "metadata": {},
   "outputs": [
    {
     "name": "stdout",
     "output_type": "stream",
     "text": [
      "Recursion Example Results:\n",
      "1\n",
      "3\n",
      "6\n",
      "10\n",
      "15\n",
      "21\n"
     ]
    },
    {
     "data": {
      "text/plain": [
       "21"
      ]
     },
     "execution_count": 96,
     "metadata": {},
     "output_type": "execute_result"
    }
   ],
   "source": [
    "def tri_recursion(k):\n",
    "  if(k > 0):\n",
    "    result = k + tri_recursion(k - 1)\n",
    "    print(result)\n",
    "  else:\n",
    "    result = 0\n",
    "  return result\n",
    "\n",
    "print(\"Recursion Example Results:\")\n",
    "tri_recursion(6)"
   ]
  },
  {
   "cell_type": "code",
   "execution_count": null,
   "id": "6e318c5b-0778-4abc-ba21-a62d9d56e92d",
   "metadata": {},
   "outputs": [],
   "source": []
  }
 ],
 "metadata": {
  "kernelspec": {
   "display_name": "Python [conda env:base] *",
   "language": "python",
   "name": "conda-base-py"
  },
  "language_info": {
   "codemirror_mode": {
    "name": "ipython",
    "version": 3
   },
   "file_extension": ".py",
   "mimetype": "text/x-python",
   "name": "python",
   "nbconvert_exporter": "python",
   "pygments_lexer": "ipython3",
   "version": "3.12.7"
  }
 },
 "nbformat": 4,
 "nbformat_minor": 5
}
