{
 "cells": [
  {
   "cell_type": "code",
   "execution_count": 1,
   "id": "b4934985-4bfa-497a-8f7e-776b44f8766e",
   "metadata": {},
   "outputs": [
    {
     "name": "stdout",
     "output_type": "stream",
     "text": [
      "['PP 2', '.DS_Store', 'Microsoft Teams', 'Calculus II', '.localized', 'Discreate math ', '(165) YouTube.webloc', 'Uni-X - Your Gateway to Inclusive Education | Online Courses for All.webloc', 'Универ', 'History of KAazakhstan', 'Notion Web Clipper']\n"
     ]
    }
   ],
   "source": [
    "import os\n",
    "\n",
    "path = r\"/Users/aidarkyzydinara/Desktop\"  # Өз қапшығыңның орны\n",
    "all_items = os.listdir(path)  # Қапшықтың ішіндегі заттарды алу\n",
    "\n",
    "print(all_items)  # Барлығын шығару "
   ]
  },
  {
   "cell_type": "code",
   "execution_count": null,
   "id": "39dbe06d-028c-4bf8-be63-8d6a24bbfaae",
   "metadata": {},
   "outputs": [],
   "source": []
  }
 ],
 "metadata": {
  "kernelspec": {
   "display_name": "Python [conda env:base] *",
   "language": "python",
   "name": "conda-base-py"
  },
  "language_info": {
   "codemirror_mode": {
    "name": "ipython",
    "version": 3
   },
   "file_extension": ".py",
   "mimetype": "text/x-python",
   "name": "python",
   "nbconvert_exporter": "python",
   "pygments_lexer": "ipython3",
   "version": "3.12.7"
  }
 },
 "nbformat": 4,
 "nbformat_minor": 5
}
