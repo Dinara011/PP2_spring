{
 "cells": [
  {
   "cell_type": "markdown",
   "id": "3242ad0c-1ec0-4114-b741-09edb48eb34e",
   "metadata": {},
   "source": [
    "Write a Python program to convert a given camel case string to snake case."
   ]
  },
  {
   "cell_type": "code",
   "execution_count": null,
   "id": "549039cd-8561-4d1e-a033-510105f03c3e",
   "metadata": {},
   "outputs": [],
   "source": [
    "import re\n",
    "text = input()\n",
    "print(re.sub(r'([a-z])([A-Z])', r'\\1_\\2', text).lower())"
   ]
  }
 ],
 "metadata": {
  "kernelspec": {
   "display_name": "Python [conda env:base] *",
   "language": "python",
   "name": "conda-base-py"
  },
  "language_info": {
   "codemirror_mode": {
    "name": "ipython",
    "version": 3
   },
   "file_extension": ".py",
   "mimetype": "text/x-python",
   "name": "python",
   "nbconvert_exporter": "python",
   "pygments_lexer": "ipython3",
   "version": "3.12.7"
  }
 },
 "nbformat": 4,
 "nbformat_minor": 5
}
