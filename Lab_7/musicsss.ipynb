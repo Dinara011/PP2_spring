{
 "cells": [
  {
   "cell_type": "code",
   "execution_count": 1,
   "id": "9bf1aa10-a93d-45dc-afd0-4233b101601c",
   "metadata": {},
   "outputs": [
    {
     "name": "stdout",
     "output_type": "stream",
     "text": [
      "pygame 2.6.1 (SDL 2.28.4, Python 3.12.7)\n",
      "Hello from the pygame community. https://www.pygame.org/contribute.html\n"
     ]
    },
    {
     "ename": "error",
     "evalue": "Library not initialized",
     "output_type": "error",
     "traceback": [
      "\u001b[0;31m---------------------------------------------------------------------------\u001b[0m",
      "\u001b[0;31merror\u001b[0m                                     Traceback (most recent call last)",
      "Cell \u001b[0;32mIn[1], line 70\u001b[0m\n\u001b[1;32m     68\u001b[0m             pygame\u001b[38;5;241m.\u001b[39mmixer\u001b[38;5;241m.\u001b[39mmusic\u001b[38;5;241m.\u001b[39mplay()\n\u001b[1;32m     69\u001b[0m \u001b[38;5;66;03m#музыка аты шығатын жер \u001b[39;00m\n\u001b[0;32m---> 70\u001b[0m text2 \u001b[38;5;241m=\u001b[39m font2\u001b[38;5;241m.\u001b[39mrender(os\u001b[38;5;241m.\u001b[39mpath\u001b[38;5;241m.\u001b[39mbasename(playlist[index]), \u001b[38;5;28;01mTrue\u001b[39;00m, (\u001b[38;5;241m20\u001b[39m, \u001b[38;5;241m20\u001b[39m, \u001b[38;5;241m50\u001b[39m))\n\u001b[1;32m     72\u001b[0m \u001b[38;5;66;03m# әр кнопканың орналасуын, көлемін көрсетеміз\u001b[39;00m\n\u001b[1;32m     73\u001b[0m screen\u001b[38;5;241m.\u001b[39mblit(background, (\u001b[38;5;241m-\u001b[39m\u001b[38;5;241m50\u001b[39m, \u001b[38;5;241m0\u001b[39m))\n",
      "\u001b[0;31merror\u001b[0m: Library not initialized"
     ]
    }
   ],
   "source": [
    "import pygame\n",
    "import os\n",
    "\n",
    "pygame.init()\n",
    "\n",
    "playlist = []\n",
    "# музыкалар орналасқан жерге path \n",
    "music_folder = \"/Users/aidarkyzydinara/Lab_7/music\"\n",
    "allmusic = os.listdir(music_folder)\n",
    "\n",
    "# playlist-қа .mp3 деп аяқталса қосамыз \n",
    "for song in allmusic:\n",
    "    if song.endswith(\".mp3\"):\n",
    "        playlist.append(os.path.join(music_folder, song))\n",
    "# экран бетіне шағатын терезе көлемі, аты\n",
    "screen = pygame.display.set_mode((800, 800))\n",
    "pygame.display.set_caption(\"study-playlist\")\n",
    "clock = pygame.time.Clock()\n",
    "\n",
    "# артқы фонды енгіземіз\n",
    "background = pygame.image.load(os.path.join(\"music\", \"background.jpg\"))\n",
    "\n",
    "# кнопкалар тұратын жердің фонын жасаймыз, алдымен көлемі, сосын RGB ақ түс\n",
    "bg = pygame.Surface((500, 200))\n",
    "bg.fill((255, 255, 255))\n",
    "\n",
    "# плейлист аты шығып тұратын жер көлемі\n",
    "font2 = pygame.font.SysFont(None, 20)\n",
    "\n",
    "# кнопкаларды папкадан енгіземіз\n",
    "playb = pygame.image.load(os.path.join(\"music\", \"play.png\"))\n",
    "pausb = pygame.image.load(os.path.join(\"music\", \"pause.png\"))\n",
    "nextb = pygame.image.load(os.path.join(\"music\", \"next.png\"))\n",
    "prevb = pygame.image.load(os.path.join(\"music\", \"back.png\"))\n",
    "\n",
    "index = 0\n",
    "aplay = False\n",
    "\n",
    "pygame.mixer.music.load(playlist[index]) \n",
    "pygame.mixer.music.play(1)\n",
    "aplay = True \n",
    "\n",
    "run = True\n",
    "\n",
    "while run:\n",
    "    for event in pygame.event.get():\n",
    "        if event.type == pygame.QUIT:\n",
    "            run = False\n",
    "            pygame.quit()\n",
    "            exit()\n",
    "        elif event.type == pygame.KEYDOWN: #клавишты басса\n",
    "            if event.key == pygame.K_SPACE: #егер пробелге тең болса\n",
    "                if aplay:\n",
    "                    aplay = False\n",
    "                    pygame.mixer.music.pause()\n",
    "                else:\n",
    "                    aplay = True\n",
    "                    pygame.mixer.music.unpause()\n",
    "\n",
    "            if event.key == pygame.K_RIGHT: #егер оң жаққа тең болса\n",
    "                index = (index + 1) % len(playlist)\n",
    "                pygame.mixer.music.load(playlist[index])\n",
    "                pygame.mixer.music.play()\n",
    "\n",
    "            if event.key == pygame.K_LEFT: #егер сол жаққа тең болса\n",
    "                index = (index - 1) % len(playlist)\n",
    "                pygame.mixer.music.load(playlist[index])\n",
    "                pygame.mixer.music.play()\n",
    "    #музыка аты шығатын жер \n",
    "    text2 = font2.render(os.path.basename(playlist[index]), True, (20, 20, 50))\n",
    "    \n",
    "    # әр кнопканың орналасуын, көлемін көрсетеміз\n",
    "    screen.blit(background, (-50, 0))\n",
    "    screen.blit(bg, (155, 500))\n",
    "    screen.blit(text2, (365, 520))\n",
    "    playb = pygame.transform.scale(playb, (70, 70))\n",
    "    pausb = pygame.transform.scale(pausb, (70, 70))\n",
    "    if aplay:\n",
    "        screen.blit(pausb, (370, 590))\n",
    "    else: \n",
    "        screen.blit(playb, (370, 590))\n",
    "    nextb = pygame.transform.scale(nextb, (70, 70))\n",
    "    screen.blit(nextb, (460, 587))\n",
    "    prevb = pygame.transform.scale(prevb, (75, 75))\n",
    "    screen.blit(prevb, (273, 585))\n",
    "\n",
    "    clock.tick(24)\n",
    "    pygame.display.update()"
   ]
  },
  {
   "cell_type": "code",
   "execution_count": null,
   "id": "14d1a954-215d-4052-844b-6bab2780c002",
   "metadata": {},
   "outputs": [],
   "source": []
  },
  {
   "cell_type": "code",
   "execution_count": null,
   "id": "78263c6a-28d3-4965-ad0f-bfebdd021e42",
   "metadata": {},
   "outputs": [],
   "source": []
  }
 ],
 "metadata": {
  "kernelspec": {
   "display_name": "Python [conda env:base] *",
   "language": "python",
   "name": "conda-base-py"
  },
  "language_info": {
   "codemirror_mode": {
    "name": "ipython",
    "version": 3
   },
   "file_extension": ".py",
   "mimetype": "text/x-python",
   "name": "python",
   "nbconvert_exporter": "python",
   "pygments_lexer": "ipython3",
   "version": "3.12.7"
  }
 },
 "nbformat": 4,
 "nbformat_minor": 5
}
