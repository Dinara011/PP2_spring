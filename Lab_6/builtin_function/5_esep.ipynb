{
 "cells": [
  {
   "cell_type": "code",
   "execution_count": 3,
   "id": "5bd7ec25-4540-4d72-bd95-2b8fdda48c67",
   "metadata": {},
   "outputs": [
    {
     "name": "stdin",
     "output_type": "stream",
     "text": [
      " 1 2 3 4\n"
     ]
    },
    {
     "name": "stdout",
     "output_type": "stream",
     "text": [
      "True\n"
     ]
    }
   ],
   "source": [
    "def all_true(t):\n",
    "    return all(t)  # Барлық элемент True ма, соны тексереміз\n",
    "\n",
    "# Пайдаланушыдан енгізу аламыз\n",
    "a = tuple(map(int, input().split()))\n",
    "\n",
    "# Нәтижені шығарамыз\n",
    "print(all_true(a))\n"
   ]
  },
  {
   "cell_type": "code",
   "execution_count": null,
   "id": "94d41947-4883-40d6-82e0-8c089a1cd55f",
   "metadata": {},
   "outputs": [],
   "source": []
  },
  {
   "cell_type": "code",
   "execution_count": null,
   "id": "7115503f-f432-42f8-9cd2-e06fc16aad71",
   "metadata": {},
   "outputs": [],
   "source": []
  }
 ],
 "metadata": {
  "kernelspec": {
   "display_name": "Python [conda env:base] *",
   "language": "python",
   "name": "conda-base-py"
  },
  "language_info": {
   "codemirror_mode": {
    "name": "ipython",
    "version": 3
   },
   "file_extension": ".py",
   "mimetype": "text/x-python",
   "name": "python",
   "nbconvert_exporter": "python",
   "pygments_lexer": "ipython3",
   "version": "3.12.7"
  }
 },
 "nbformat": 4,
 "nbformat_minor": 5
}
