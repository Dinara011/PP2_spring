{
 "cells": [
  {
   "cell_type": "markdown",
   "id": "cde3f1b1-ab49-4672-ab05-811ee79dacca",
   "metadata": {},
   "source": [
    "Write a Python program to replace all occurrences of space, comma, or dot with a colon."
   ]
  },
  {
   "cell_type": "code",
   "execution_count": null,
   "id": "ffa59c90-ff44-4a23-9c13-615826142aef",
   "metadata": {},
   "outputs": [],
   "source": [
    "import re\n",
    "text = input()\n",
    "pattern = r\"[ ,.]\"\n",
    "print(re.sub(pattern, \":\", text))"
   ]
  },
  {
   "cell_type": "code",
   "execution_count": null,
   "id": "4a54a1e6-6454-43b2-8752-28c5681b6d85",
   "metadata": {},
   "outputs": [],
   "source": []
  }
 ],
 "metadata": {
  "kernelspec": {
   "display_name": "Python [conda env:base] *",
   "language": "python",
   "name": "conda-base-py"
  },
  "language_info": {
   "codemirror_mode": {
    "name": "ipython",
    "version": 3
   },
   "file_extension": ".py",
   "mimetype": "text/x-python",
   "name": "python",
   "nbconvert_exporter": "python",
   "pygments_lexer": "ipython3",
   "version": "3.12.7"
  }
 },
 "nbformat": 4,
 "nbformat_minor": 5
}
