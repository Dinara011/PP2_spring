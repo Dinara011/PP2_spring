{
 "cells": [
  {
   "cell_type": "code",
   "execution_count": 28,
   "id": "95610355-efc0-4ac7-9c86-6bcfeda12903",
   "metadata": {},
   "outputs": [],
   "source": [
    "def writesome(list_of_elements):\n",
    "    with open(\"matin.txt\", 'a') as f:  # 'a' → файлдың соңына қосу үшін\n",
    "        text = \" \".join(map(str, list_of_elements))  # Тізімдегі элементтерді бос орын арқылы қосамыз\n",
    "        f.write(text + \"\\n\")  # Файлға жазамыз және жаңа жолға көшеміз\n",
    "\n",
    "\n",
    "writesome([12345, 56789, 90987654, \"dfghjkl\", \"efrgf\", 34, 34])\n"
   ]
  },
  {
   "cell_type": "code",
   "execution_count": null,
   "id": "535adb85-2030-44da-81de-0c3f14a7ebdd",
   "metadata": {},
   "outputs": [],
   "source": []
  },
  {
   "cell_type": "code",
   "execution_count": null,
   "id": "51aff040-a225-4dc9-8e47-8f1f1fd37850",
   "metadata": {},
   "outputs": [],
   "source": []
  }
 ],
 "metadata": {
  "kernelspec": {
   "display_name": "Python [conda env:base] *",
   "language": "python",
   "name": "conda-base-py"
  },
  "language_info": {
   "codemirror_mode": {
    "name": "ipython",
    "version": 3
   },
   "file_extension": ".py",
   "mimetype": "text/x-python",
   "name": "python",
   "nbconvert_exporter": "python",
   "pygments_lexer": "ipython3",
   "version": "3.12.7"
  }
 },
 "nbformat": 4,
 "nbformat_minor": 5
}
