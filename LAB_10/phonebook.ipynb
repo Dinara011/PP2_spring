{
 "cells": [
  {
   "cell_type": "code",
   "execution_count": null,
   "id": "0482d8d6-40b7-46b1-a84a-fe3785315f0f",
   "metadata": {},
   "outputs": [
    {
     "name": "stdout",
     "output_type": "stream",
     "text": [
      "\n",
      "--- PHONEBOOK ---\n",
      "1. CSV-тен дерек енгізу\n",
      "2. Қолмен қолданушы енгізу\n",
      "3. Қолданушыны жаңарту\n",
      "4. Қолданушыны іздеу\n",
      "5. Қолданушыны өшіру\n",
      "6. Шығу\n"
     ]
    },
    {
     "name": "stdin",
     "output_type": "stream",
     "text": [
      "Таңда:  1\n"
     ]
    },
    {
     "name": "stdout",
     "output_type": "stream",
     "text": [
      "✅ CSV деректері енгізілді.\n",
      "\n",
      "--- PHONEBOOK ---\n",
      "1. CSV-тен дерек енгізу\n",
      "2. Қолмен қолданушы енгізу\n",
      "3. Қолданушыны жаңарту\n",
      "4. Қолданушыны іздеу\n",
      "5. Қолданушыны өшіру\n",
      "6. Шығу\n"
     ]
    },
    {
     "name": "stdin",
     "output_type": "stream",
     "text": [
      "Таңда:  4\n",
      "Аты не нөмірі бойынша ізде:  Zhaisan\n"
     ]
    },
    {
     "name": "stdout",
     "output_type": "stream",
     "text": [
      "(5, ' Zhaisan ', ' Erali ')\n",
      "\n",
      "--- PHONEBOOK ---\n",
      "1. CSV-тен дерек енгізу\n",
      "2. Қолмен қолданушы енгізу\n",
      "3. Қолданушыны жаңарту\n",
      "4. Қолданушыны іздеу\n",
      "5. Қолданушыны өшіру\n",
      "6. Шығу\n"
     ]
    }
   ],
   "source": [
    "import psycopg2\n",
    "import csv\n",
    "\n",
    "# 1. PostgreSQL-ге қосылу\n",
    "conn = psycopg2.connect(\n",
    "    dbname=\"phonebook_db\",\n",
    "    user=\"aidarkyzydinara\", \n",
    "    password=\"20102010\",               \n",
    "    host=\"localhost\"\n",
    ")\n",
    "cur = conn.cursor()\n",
    "\n",
    "# 2. phonebook кестесін жасау\n",
    "cur.execute(\"\"\"\n",
    "    CREATE TABLE IF NOT EXISTS phonebook (\n",
    "        id SERIAL PRIMARY KEY,\n",
    "        username VARCHAR(100) NOT NULL,\n",
    "        phone VARCHAR(20) NOT NULL\n",
    "    )\n",
    "\"\"\")\n",
    "conn.commit()\n",
    "\n",
    "# 3. CSV файлдан дерек енгізу\n",
    "def insert_from_csv(file_path):\n",
    "    with open(file_path, newline='') as csvfile:\n",
    "        reader = csv.reader(csvfile)\n",
    "        next(reader)  # бірінші жол — баған аттары\n",
    "        for row in reader:\n",
    "            if len(row) >= 2:\n",
    "                cur.execute(\"INSERT INTO phonebook (username, phone) VALUES (%s, %s)\", (row[0], row[1]))\n",
    "    conn.commit()\n",
    "    print(\"✅ CSV деректері енгізілді.\")\n",
    "\n",
    "# 4. Қолданушыдан енгізу\n",
    "def insert_from_console():\n",
    "    name = input(\"Аты: \")\n",
    "    phone = input(\"Нөмірі: \")\n",
    "    cur.execute(\"INSERT INTO phonebook (username, phone) VALUES (%s, %s)\", (name, phone))\n",
    "    conn.commit()\n",
    "    print(\"✅ Қолданушы енгізілді.\")\n",
    "\n",
    "# 5. Мәлімет жаңарту\n",
    "def update_user():\n",
    "    name = input(\"Қай қолданушыны өзгертеміз (ескі атын жаз): \")\n",
    "    new_name = input(\"Жаңа ат (өткізіп жіберуге болады): \")\n",
    "    new_phone = input(\"Жаңа нөмір (өткізіп жіберуге болады): \")\n",
    "    if new_name:\n",
    "        cur.execute(\"UPDATE phonebook SET username = %s WHERE username = %s\", (new_name, name))\n",
    "    if new_phone:\n",
    "        cur.execute(\"UPDATE phonebook SET phone = %s WHERE username = %s\", (new_phone, new_name or name))\n",
    "    conn.commit()\n",
    "    print(\"✅ Жаңартылды.\")\n",
    "\n",
    "# 6. Мәлімет іздеу\n",
    "def search_user():\n",
    "    filter_value = input(\"Аты не нөмірі бойынша ізде: \")\n",
    "    cur.execute(\"SELECT * FROM phonebook WHERE username ILIKE %s OR phone ILIKE %s\", (f'%{filter_value}%', f'%{filter_value}%'))\n",
    "    results = cur.fetchall()\n",
    "    for r in results:\n",
    "        print(r)\n",
    "    if not results:\n",
    "        print(\"Ештеңе табылмады.\")\n",
    "\n",
    "# 7. Мәлімет өшіру\n",
    "def delete_user():\n",
    "    value = input(\"Аты не нөмірі арқылы өшіру: \")\n",
    "    cur.execute(\"DELETE FROM phonebook WHERE username = %s OR phone = %s\", (value, value))\n",
    "    conn.commit()\n",
    "    print(\"✅ Өшірілді.\")\n",
    "\n",
    "# 8. Пайдаланушыға меню көрсету\n",
    "def menu():\n",
    "    while True:\n",
    "        print(\"\\n--- PHONEBOOK ---\")\n",
    "        print(\"1. CSV-тен дерек енгізу\")\n",
    "        print(\"2. Қолмен қолданушы енгізу\")\n",
    "        print(\"3. Қолданушыны жаңарту\")\n",
    "        print(\"4. Қолданушыны іздеу\")\n",
    "        print(\"5. Қолданушыны өшіру\")\n",
    "        print(\"6. Шығу\")\n",
    "\n",
    "        choice = input(\"Таңда: \")\n",
    "        if choice == \"1\":\n",
    "            insert_from_csv(\"students.csv\")\n",
    "        elif choice == \"2\":\n",
    "            insert_from_console()\n",
    "        elif choice == \"3\":\n",
    "            update_user()\n",
    "        elif choice == \"4\":\n",
    "            search_user()\n",
    "        elif choice == \"5\":\n",
    "            delete_user()\n",
    "        elif choice == \"6\":\n",
    "            break\n",
    "        else:\n",
    "            print(\"❌ Қате таңдау. Қайталап көр.\")\n",
    "\n",
    "menu()\n",
    "\n",
    "# 9. Байланысты жабу\n",
    "cur.close()\n",
    "conn.close()\n"
   ]
  },
  {
   "cell_type": "code",
   "execution_count": null,
   "id": "8d9a220b-a7d8-40a9-8359-a9aa06e93a63",
   "metadata": {},
   "outputs": [],
   "source": []
  }
 ],
 "metadata": {
  "kernelspec": {
   "display_name": "Python [conda env:base] *",
   "language": "python",
   "name": "conda-base-py"
  },
  "language_info": {
   "codemirror_mode": {
    "name": "ipython",
    "version": 3
   },
   "file_extension": ".py",
   "mimetype": "text/x-python",
   "name": "python",
   "nbconvert_exporter": "python",
   "pygments_lexer": "ipython3",
   "version": "3.12.7"
  }
 },
 "nbformat": 4,
 "nbformat_minor": 5
}
