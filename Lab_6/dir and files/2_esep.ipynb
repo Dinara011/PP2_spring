{
 "cells": [
  {
   "cell_type": "code",
   "execution_count": 1,
   "id": "29b83f60-ae5e-44ce-9bf5-980f769f0872",
   "metadata": {},
   "outputs": [
    {
     "name": "stdout",
     "output_type": "stream",
     "text": [
      "Path exists\n",
      "Readable \n",
      "Writable \n",
      "Executable \n"
     ]
    }
   ],
   "source": [
    "import os\n",
    "\n",
    "def check_access(path):\n",
    "    if not os.path.exists(path):\n",
    "        print(\"Path doesn't exist\")  # Егер жол (path) жоқ болса\n",
    "        return \n",
    "    else:\n",
    "        print(\"Path exists\")  # Егер бар болса\n",
    "\n",
    "        if os.access(path, os.R_OK):\n",
    "            print(\"Readable \")  # Оқуға болады\n",
    "        else:\n",
    "            print(\"Not readable \")\n",
    "\n",
    "        if os.access(path, os.W_OK):\n",
    "            print(\"Writable \")  # Жазуға болады\n",
    "        else:\n",
    "            print(\"Not writable ❌\")\n",
    "\n",
    "        if os.access(path, os.X_OK):\n",
    "            print(\"Executable \")  # Орындауға болады\n",
    "        else:\n",
    "            print(\"Not executable \")\n",
    "\n",
    "if __name__ == \"__main__\":\n",
    "    path_to_check = r\"/Users/aidarkyzydinara/Library/Saved Searches\"\n",
    "    check_access(path_to_check)  "
   ]
  },
  {
   "cell_type": "code",
   "execution_count": null,
   "id": "c315ad59-1316-4395-a7cb-b982bf19c25b",
   "metadata": {},
   "outputs": [],
   "source": []
  }
 ],
 "metadata": {
  "kernelspec": {
   "display_name": "Python [conda env:base] *",
   "language": "python",
   "name": "conda-base-py"
  },
  "language_info": {
   "codemirror_mode": {
    "name": "ipython",
    "version": 3
   },
   "file_extension": ".py",
   "mimetype": "text/x-python",
   "name": "python",
   "nbconvert_exporter": "python",
   "pygments_lexer": "ipython3",
   "version": "3.12.7"
  }
 },
 "nbformat": 4,
 "nbformat_minor": 5
}
