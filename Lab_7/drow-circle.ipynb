{
 "cells": [
  {
   "cell_type": "code",
   "execution_count": 1,
   "id": "cff7bc58-b3e9-4621-bedf-cbd7d1830f96",
   "metadata": {},
   "outputs": [
    {
     "name": "stdout",
     "output_type": "stream",
     "text": [
      "pygame 2.6.1 (SDL 2.28.4, Python 3.12.7)\n",
      "Hello from the pygame community. https://www.pygame.org/contribute.html\n"
     ]
    },
    {
     "ename": "error",
     "evalue": "video system not initialized",
     "output_type": "error",
     "traceback": [
      "\u001b[0;31m---------------------------------------------------------------------------\u001b[0m",
      "\u001b[0;31merror\u001b[0m                                     Traceback (most recent call last)",
      "Cell \u001b[0;32mIn[1], line 22\u001b[0m\n\u001b[1;32m     20\u001b[0m         pygame\u001b[38;5;241m.\u001b[39mquit()\n\u001b[1;32m     21\u001b[0m         exit()\n\u001b[0;32m---> 22\u001b[0m keys \u001b[38;5;241m=\u001b[39m pygame\u001b[38;5;241m.\u001b[39mkey\u001b[38;5;241m.\u001b[39mget_pressed() \u001b[38;5;66;03m#клавиштың барлық жерін алады\u001b[39;00m\n\u001b[1;32m     23\u001b[0m \u001b[38;5;28;01mif\u001b[39;00m keys[pygame\u001b[38;5;241m.\u001b[39mK_UP]: \n\u001b[1;32m     24\u001b[0m     ball_pos[\u001b[38;5;241m1\u001b[39m] \u001b[38;5;241m=\u001b[39m \u001b[38;5;28mmax\u001b[39m(ball_pos[\u001b[38;5;241m1\u001b[39m] \u001b[38;5;241m-\u001b[39m speed, ball_radius)\n",
      "\u001b[0;31merror\u001b[0m: video system not initialized"
     ]
    }
   ],
   "source": [
    "import pygame\n",
    "pygame.init()\n",
    "\n",
    "#окно ұзындықтары,аты,түсі,артқы фон түсі\n",
    "window_size = (800, 600) \n",
    "screen = pygame.display.set_mode(window_size) \n",
    "pygame.display.set_caption(\"Draw circle\")\n",
    "ball_color = pygame.Color('red')\n",
    "bg_color = pygame.Color('white')\n",
    "\n",
    "ball_pos = [400, 300] #шардың пайда болу аймағы\n",
    "\n",
    "ball_radius = 25 #шар радиусы\n",
    "\n",
    "speed = 20 #шар жылдамдығы\n",
    "\n",
    "while True:\n",
    "    for event in pygame.event.get():\n",
    "        if event.type == pygame.QUIT:\n",
    "            pygame.quit()\n",
    "            exit()\n",
    "    keys = pygame.key.get_pressed() #клавиштың барлық жерін алады\n",
    "    if keys[pygame.K_UP]: \n",
    "        ball_pos[1] = max(ball_pos[1] - speed, ball_radius)\n",
    "    if keys[pygame.K_DOWN]:\n",
    "        ball_pos[1] = min(ball_pos[1] + speed, window_size[1] - ball_radius)\n",
    "    if keys[pygame.K_LEFT]:\n",
    "        ball_pos[0] = max(ball_pos[0] - speed, ball_radius)\n",
    "    if keys[pygame.K_RIGHT]:\n",
    "        ball_pos[0] = min(ball_pos[0] + speed, window_size[0] - ball_radius)\n",
    "    \n",
    "    screen.fill(bg_color)\n",
    "    pygame.draw.circle(screen, ball_color, ball_pos, ball_radius)\n",
    "    pygame.display.flip()\n",
    "    pygame.time.Clock().tick(24)"
   ]
  },
  {
   "cell_type": "code",
   "execution_count": null,
   "id": "581ee7e6-b9b7-404b-8b65-c630e91284a3",
   "metadata": {},
   "outputs": [],
   "source": []
  }
 ],
 "metadata": {
  "kernelspec": {
   "display_name": "Python [conda env:base] *",
   "language": "python",
   "name": "conda-base-py"
  },
  "language_info": {
   "codemirror_mode": {
    "name": "ipython",
    "version": 3
   },
   "file_extension": ".py",
   "mimetype": "text/x-python",
   "name": "python",
   "nbconvert_exporter": "python",
   "pygments_lexer": "ipython3",
   "version": "3.12.7"
  }
 },
 "nbformat": 4,
 "nbformat_minor": 5
}
