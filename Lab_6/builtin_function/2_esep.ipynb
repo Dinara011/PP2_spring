{
 "cells": [
  {
   "cell_type": "code",
   "execution_count": null,
   "id": "6dea835e-0551-43a7-885d-2892e9bec169",
   "metadata": {},
   "outputs": [],
   "source": [
    "def count_upper(text):\n",
    "    count = 0\n",
    "    for char in text:\n",
    "        if char.isupper():  # Егер үлкен әріп болса\n",
    "            count += 1\n",
    "    return count\n",
    "\n",
    "def count_lower(text):\n",
    "    count = 0\n",
    "    for char in text:\n",
    "        if char.islower():  # Егер кіші әріп болса\n",
    "            count += 1\n",
    "    return count\n",
    "\n",
    "# Пайдаланушыдан енгізу\n",
    "text = input(\"Жолды енгізіңіз: \")\n",
    "\n",
    "# Функцияларды шақыру\n",
    "upper = count_upper(text)\n",
    "lower = count_lower(text)\n",
    "\n",
    "# Нәтижені шығару\n",
    "print(\"Үлкен әріптер саны:\", upper)\n",
    "print(\"Кіші әріптер саны:\", lower)\n"
   ]
  }
 ],
 "metadata": {
  "kernelspec": {
   "display_name": "Python [conda env:base] *",
   "language": "python",
   "name": "conda-base-py"
  },
  "language_info": {
   "codemirror_mode": {
    "name": "ipython",
    "version": 3
   },
   "file_extension": ".py",
   "mimetype": "text/x-python",
   "name": "python",
   "nbconvert_exporter": "python",
   "pygments_lexer": "ipython3",
   "version": "3.12.7"
  }
 },
 "nbformat": 4,
 "nbformat_minor": 5
}
