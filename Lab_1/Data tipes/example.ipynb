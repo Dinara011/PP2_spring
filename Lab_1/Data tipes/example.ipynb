{
 "cells": [
  {
   "cell_type": "code",
   "execution_count": 1,
   "id": "9924c691-8851-4e8b-99d5-3a3f6c20b8cb",
   "metadata": {},
   "outputs": [
    {
     "name": "stdout",
     "output_type": "stream",
     "text": [
      "<class 'int'>\n"
     ]
    }
   ],
   "source": [
    "x = 5\n",
    "print(type(x))\n",
    "#int\n"
   ]
  },
  {
   "cell_type": "code",
   "execution_count": 3,
   "id": "00b35beb-4500-4b6c-8531-7be4f4023412",
   "metadata": {},
   "outputs": [
    {
     "name": "stdout",
     "output_type": "stream",
     "text": [
      "<class 'str'>\n"
     ]
    }
   ],
   "source": [
    "x = \"Hello World\"\n",
    "print(type(x))\n",
    "#str"
   ]
  },
  {
   "cell_type": "code",
   "execution_count": 5,
   "id": "5e7f4044-63cb-4da2-8544-18901d7b8698",
   "metadata": {},
   "outputs": [
    {
     "name": "stdout",
     "output_type": "stream",
     "text": [
      "<class 'float'>\n"
     ]
    }
   ],
   "source": [
    "x = 20.5\n",
    "print(type(x))\n",
    "#float"
   ]
  },
  {
   "cell_type": "code",
   "execution_count": 7,
   "id": "ecd0394b-daef-45ba-8b1e-8b30c32a6b07",
   "metadata": {},
   "outputs": [
    {
     "name": "stdout",
     "output_type": "stream",
     "text": [
      "<class 'list'>\n"
     ]
    }
   ],
   "source": [
    "x = [\"apple\", \"banana\", \"cherry\"]\n",
    "print(type(x))\n",
    "#list"
   ]
  },
  {
   "cell_type": "code",
   "execution_count": 9,
   "id": "64430ace-cf74-4b3b-aa77-5d6e6a990b1a",
   "metadata": {},
   "outputs": [
    {
     "name": "stdout",
     "output_type": "stream",
     "text": [
      "<class 'tuple'>\n"
     ]
    }
   ],
   "source": [
    "x = (\"apple\", \"banana\", \"cherry\")\n",
    "print(type(x))\n",
    "#tuple"
   ]
  },
  {
   "cell_type": "code",
   "execution_count": 11,
   "id": "fcb2a9d5-8f59-4f2c-ac64-cba9056736b8",
   "metadata": {},
   "outputs": [
    {
     "name": "stdout",
     "output_type": "stream",
     "text": [
      "<class 'dict'>\n"
     ]
    }
   ],
   "source": [
    "x = {\"name\" : \"John\", \"age\" : 36}\n",
    "print(type(x))\n",
    "#dict"
   ]
  },
  {
   "cell_type": "code",
   "execution_count": 13,
   "id": "d9eb7f83-6f0f-413d-8c36-450286f1eaa9",
   "metadata": {},
   "outputs": [
    {
     "name": "stdout",
     "output_type": "stream",
     "text": [
      "<class 'bool'>\n"
     ]
    }
   ],
   "source": [
    "x = True\n",
    "print(type(x))\n",
    "#bool"
   ]
  },
  {
   "cell_type": "code",
   "execution_count": null,
   "id": "6735bb7c-99da-4aec-bfb3-317876af3b21",
   "metadata": {},
   "outputs": [],
   "source": []
  }
 ],
 "metadata": {
  "kernelspec": {
   "display_name": "Python [conda env:base] *",
   "language": "python",
   "name": "conda-base-py"
  },
  "language_info": {
   "codemirror_mode": {
    "name": "ipython",
    "version": 3
   },
   "file_extension": ".py",
   "mimetype": "text/x-python",
   "name": "python",
   "nbconvert_exporter": "python",
   "pygments_lexer": "ipython3",
   "version": "3.12.7"
  }
 },
 "nbformat": 4,
 "nbformat_minor": 5
}
