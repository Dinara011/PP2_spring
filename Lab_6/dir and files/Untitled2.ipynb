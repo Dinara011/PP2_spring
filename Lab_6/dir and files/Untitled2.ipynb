{
 "cells": [
  {
   "cell_type": "code",
   "execution_count": null,
   "id": "7d670937-7649-4b71-8788-4a4e5d22b699",
   "metadata": {},
   "outputs": [],
   "source": [
    "def copier():\n",
    "    string = str(input(\"Enter the name of file: \"))\n",
    "    with open(string) as file:\n",
    "        data = file.read()\n",
    "    file.close()\n",
    "    copy_path = \"\"\n",
    "    for i in range(len(string)):\n",
    "        if string[i]=='.':\n",
    "            copy_path+='_1'\n",
    "        copy_path+=string[i]\n",
    "    with open(copy_path, \"+w\") as file_copy:\n",
    "        file_copy.write(data)\n",
    "    file.close()\n",
    "    \n",
    "    return 0\n",
    "\n",
    "copier()"
   ]
  },
  {
   "cell_type": "code",
   "execution_count": null,
   "id": "93dfce1c-8537-4a68-9302-8e836d6c4bb7",
   "metadata": {},
   "outputs": [],
   "source": []
  },
  {
   "cell_type": "code",
   "execution_count": null,
   "id": "432c7ed5-8c0d-4ba8-b336-effc8042b453",
   "metadata": {},
   "outputs": [],
   "source": []
  }
 ],
 "metadata": {
  "kernelspec": {
   "display_name": "Python [conda env:base] *",
   "language": "python",
   "name": "conda-base-py"
  },
  "language_info": {
   "codemirror_mode": {
    "name": "ipython",
    "version": 3
   },
   "file_extension": ".py",
   "mimetype": "text/x-python",
   "name": "python",
   "nbconvert_exporter": "python",
   "pygments_lexer": "ipython3",
   "version": "3.12.7"
  }
 },
 "nbformat": 4,
 "nbformat_minor": 5
}
