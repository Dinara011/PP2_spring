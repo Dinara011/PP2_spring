{
 "cells": [
  {
   "cell_type": "markdown",
   "id": "184409b5-dbe6-4d54-af28-193c20272c63",
   "metadata": {},
   "source": [
    " Write a Python program that matches a string that has an `'a'` followed by anything, ending in `'b'`."
   ]
  },
  {
   "cell_type": "code",
   "execution_count": null,
   "id": "1532e0f3-a167-4726-8bb8-770386378de3",
   "metadata": {},
   "outputs": [],
   "source": [
    "import re\n",
    "text = input()\n",
    "pattern = r\"^a.*b$\"\n",
    "print(bool(re.fullmatch(pattern, text)))"
   ]
  },
  {
   "cell_type": "code",
   "execution_count": null,
   "id": "35bd6a55-e96e-45e3-b225-1177b3b9c9e6",
   "metadata": {},
   "outputs": [],
   "source": []
  }
 ],
 "metadata": {
  "kernelspec": {
   "display_name": "Python [conda env:base] *",
   "language": "python",
   "name": "conda-base-py"
  },
  "language_info": {
   "codemirror_mode": {
    "name": "ipython",
    "version": 3
   },
   "file_extension": ".py",
   "mimetype": "text/x-python",
   "name": "python",
   "nbconvert_exporter": "python",
   "pygments_lexer": "ipython3",
   "version": "3.12.7"
  }
 },
 "nbformat": 4,
 "nbformat_minor": 5
}
