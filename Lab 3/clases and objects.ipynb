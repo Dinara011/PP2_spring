{
 "cells": [
  {
   "cell_type": "markdown",
   "id": "ac8f47f6-4520-4e55-852d-d26f3ce4daa0",
   "metadata": {},
   "source": [
    "Create a Class"
   ]
  },
  {
   "cell_type": "code",
   "execution_count": 2,
   "id": "8f8b78bc-d7c2-4de0-afa9-7dfe3b396d4b",
   "metadata": {},
   "outputs": [],
   "source": [
    "class MyClass:\n",
    "  x = 5"
   ]
  },
  {
   "cell_type": "markdown",
   "id": "5c50eeb7-8552-43d7-89b1-ea8c97ca4439",
   "metadata": {},
   "source": [
    "Create Object"
   ]
  },
  {
   "cell_type": "code",
   "execution_count": 5,
   "id": "ad5da7d5-c21c-4d4d-aa3e-349bdf2d1b77",
   "metadata": {},
   "outputs": [
    {
     "name": "stdout",
     "output_type": "stream",
     "text": [
      "5\n"
     ]
    }
   ],
   "source": [
    "p1 = MyClass()\n",
    "print(p1.x)"
   ]
  },
  {
   "cell_type": "markdown",
   "id": "a2860db9-f213-489f-925a-c429eeafcb36",
   "metadata": {},
   "source": [
    "The __init__() Function"
   ]
  },
  {
   "cell_type": "code",
   "execution_count": 10,
   "id": "b9797714-1a89-436a-949d-14dbb46e45c6",
   "metadata": {},
   "outputs": [
    {
     "name": "stdout",
     "output_type": "stream",
     "text": [
      "John\n",
      "36\n"
     ]
    }
   ],
   "source": [
    "class Person:\n",
    "  def __init__(self, name, age):\n",
    "    self.name = name\n",
    "    self.age = age\n",
    "\n",
    "p1 = Person(\"John\", 36)\n",
    "\n",
    "print(p1.name)\n",
    "print(p1.age)"
   ]
  },
  {
   "cell_type": "markdown",
   "id": "e01ee7f6-f717-425b-a797-88a2a8f49788",
   "metadata": {},
   "source": [
    "The __str__() Function"
   ]
  },
  {
   "cell_type": "code",
   "execution_count": 13,
   "id": "9a9ecd48-551f-437d-91b1-52bc1ced6373",
   "metadata": {},
   "outputs": [
    {
     "name": "stdout",
     "output_type": "stream",
     "text": [
      "<__main__.Person object at 0x11ef4f110>\n"
     ]
    }
   ],
   "source": [
    "class Person:\n",
    "  def __init__(self, name, age):\n",
    "    self.name = name\n",
    "    self.age = age\n",
    "\n",
    "p1 = Person(\"John\", 36)\n",
    "\n",
    "print(p1)"
   ]
  },
  {
   "cell_type": "code",
   "execution_count": 15,
   "id": "fc047aed-b671-4089-b694-fef52f6a34db",
   "metadata": {},
   "outputs": [
    {
     "name": "stdout",
     "output_type": "stream",
     "text": [
      "John(36)\n"
     ]
    }
   ],
   "source": [
    "class Person:\n",
    "  def __init__(self, name, age):\n",
    "    self.name = name\n",
    "    self.age = age\n",
    "\n",
    "  def __str__(self):\n",
    "    return f\"{self.name}({self.age})\"\n",
    "\n",
    "p1 = Person(\"John\", 36)\n",
    "\n",
    "print(p1)"
   ]
  },
  {
   "cell_type": "markdown",
   "id": "29a90114-8e80-407e-93b3-f138a2c8d640",
   "metadata": {},
   "source": [
    "Object Methods"
   ]
  },
  {
   "cell_type": "code",
   "execution_count": 18,
   "id": "5d701c19-0fd0-43bb-a424-2c637a4da7ac",
   "metadata": {},
   "outputs": [
    {
     "name": "stdout",
     "output_type": "stream",
     "text": [
      "Hello my name is John\n"
     ]
    }
   ],
   "source": [
    "class Person:\n",
    "  def __init__(self, name, age):\n",
    "    self.name = name\n",
    "    self.age = age\n",
    "\n",
    "  def myfunc(self):\n",
    "    print(\"Hello my name is \" + self.name)\n",
    "\n",
    "p1 = Person(\"John\", 36)\n",
    "p1.myfunc()"
   ]
  },
  {
   "cell_type": "markdown",
   "id": "515bd63a-e1f9-4726-9e29-b10e23c104f8",
   "metadata": {},
   "source": [
    "The self Parameter"
   ]
  },
  {
   "cell_type": "code",
   "execution_count": 21,
   "id": "0d0743bf-6b20-4345-bea4-31528acb8290",
   "metadata": {},
   "outputs": [
    {
     "name": "stdout",
     "output_type": "stream",
     "text": [
      "Hello my name is John\n"
     ]
    }
   ],
   "source": [
    "class Person:\n",
    "  def __init__(mysillyobject, name, age):\n",
    "    mysillyobject.name = name\n",
    "    mysillyobject.age = age\n",
    "\n",
    "  def myfunc(abc):\n",
    "    print(\"Hello my name is \" + abc.name)\n",
    "\n",
    "p1 = Person(\"John\", 36)\n",
    "p1.myfunc()"
   ]
  },
  {
   "cell_type": "markdown",
   "id": "9ee7a0ac-05ed-48d8-8744-769b7b3f26f1",
   "metadata": {},
   "source": [
    "Modify Object Properties"
   ]
  },
  {
   "cell_type": "code",
   "execution_count": 24,
   "id": "70ffc0d6-6f34-4d9b-aa92-7880eac27c29",
   "metadata": {},
   "outputs": [],
   "source": [
    "p1.age = 40"
   ]
  },
  {
   "cell_type": "code",
   "execution_count": null,
   "id": "0932569a-16ba-4553-a787-6b248f0b165f",
   "metadata": {},
   "outputs": [],
   "source": []
  }
 ],
 "metadata": {
  "kernelspec": {
   "display_name": "Python [conda env:base] *",
   "language": "python",
   "name": "conda-base-py"
  },
  "language_info": {
   "codemirror_mode": {
    "name": "ipython",
    "version": 3
   },
   "file_extension": ".py",
   "mimetype": "text/x-python",
   "name": "python",
   "nbconvert_exporter": "python",
   "pygments_lexer": "ipython3",
   "version": "3.12.7"
  }
 },
 "nbformat": 4,
 "nbformat_minor": 5
}
