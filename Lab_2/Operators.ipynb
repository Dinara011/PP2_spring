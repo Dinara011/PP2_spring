{
 "cells": [
  {
   "cell_type": "markdown",
   "id": "3b794bf5-a862-4e23-ad43-5cda1e85fb2e",
   "metadata": {},
   "source": [
    " Operators"
   ]
  },
  {
   "cell_type": "code",
   "execution_count": 1,
   "id": "92727f41-8097-4307-a305-2297c696b980",
   "metadata": {},
   "outputs": [
    {
     "name": "stdout",
     "output_type": "stream",
     "text": [
      "15\n"
     ]
    }
   ],
   "source": [
    "print(10 + 5)"
   ]
  },
  {
   "cell_type": "code",
   "execution_count": 4,
   "id": "d7f64043-f63d-4708-a642-80550d54549a",
   "metadata": {},
   "outputs": [
    {
     "name": "stdout",
     "output_type": "stream",
     "text": [
      "115\n"
     ]
    }
   ],
   "source": [
    "#Multiplication * has higher precedence than addition +, and therefor multiplications are evaluated before additions:\n",
    "\n",
    "print(100 + 5 * 3)"
   ]
  },
  {
   "cell_type": "code",
   "execution_count": 6,
   "id": "a7597e71-166e-4c70-b23c-47258eb76dee",
   "metadata": {},
   "outputs": [
    {
     "name": "stdout",
     "output_type": "stream",
     "text": [
      "5\n"
     ]
    }
   ],
   "source": [
    "#Addition + and subtraction - has the same precedence, and therefor we evaluate the expression from left to right:\n",
    "\n",
    "print(5 + 4 - 7 + 3)"
   ]
  },
  {
   "cell_type": "code",
   "execution_count": null,
   "id": "adb3f669-e79d-4f22-b850-fc4ac615caff",
   "metadata": {},
   "outputs": [],
   "source": []
  }
 ],
 "metadata": {
  "kernelspec": {
   "display_name": "Python [conda env:base] *",
   "language": "python",
   "name": "conda-base-py"
  },
  "language_info": {
   "codemirror_mode": {
    "name": "ipython",
    "version": 3
   },
   "file_extension": ".py",
   "mimetype": "text/x-python",
   "name": "python",
   "nbconvert_exporter": "python",
   "pygments_lexer": "ipython3",
   "version": "3.12.7"
  }
 },
 "nbformat": 4,
 "nbformat_minor": 5
}
