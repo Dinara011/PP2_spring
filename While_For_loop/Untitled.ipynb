{
 "cells": [
  {
   "cell_type": "markdown",
   "id": "21da9780-6bfc-4e75-b1ad-94edb4463fab",
   "metadata": {},
   "source": [
    "The while Loop"
   ]
  },
  {
   "cell_type": "code",
   "execution_count": 2,
   "id": "dae5e082-4509-4dbe-a814-4480750301dd",
   "metadata": {},
   "outputs": [
    {
     "name": "stdout",
     "output_type": "stream",
     "text": [
      "1\n",
      "2\n",
      "3\n",
      "4\n",
      "5\n"
     ]
    }
   ],
   "source": [
    "#Print i as long as i is less than 6:\n",
    "i = 1\n",
    "while i < 6:\n",
    "  print(i)\n",
    "  i += 1"
   ]
  },
  {
   "cell_type": "markdown",
   "id": "7004d5cb-9c5b-4f0b-a4f4-20ba9aee1f9b",
   "metadata": {},
   "source": [
    "The break Statement"
   ]
  },
  {
   "cell_type": "code",
   "execution_count": 6,
   "id": "6ea24cec-845b-4315-9cbd-b14a2dd17198",
   "metadata": {},
   "outputs": [
    {
     "name": "stdout",
     "output_type": "stream",
     "text": [
      "1\n",
      "2\n",
      "3\n"
     ]
    }
   ],
   "source": [
    "#Exit the loop when i is 3:\n",
    "\n",
    "i = 1\n",
    "while i < 6:\n",
    "  print(i)\n",
    "  if i == 3:\n",
    "    break\n",
    "  i += 1"
   ]
  },
  {
   "cell_type": "markdown",
   "id": "b12a6cc1-a1ed-4a3b-93c2-dade513f8a3a",
   "metadata": {},
   "source": [
    "The continue Statement"
   ]
  },
  {
   "cell_type": "code",
   "execution_count": 9,
   "id": "dde8d850-24c8-4bc3-91bd-d9b4b883fc8f",
   "metadata": {},
   "outputs": [
    {
     "name": "stdout",
     "output_type": "stream",
     "text": [
      "1\n",
      "2\n",
      "4\n",
      "5\n",
      "6\n"
     ]
    }
   ],
   "source": [
    "#Continue to the next iteration if i is 3:\n",
    "\n",
    "i = 0\n",
    "while i < 6:\n",
    "  i += 1 \n",
    "  if i == 3:\n",
    "    continue\n",
    "  print(i)"
   ]
  },
  {
   "cell_type": "markdown",
   "id": "7cf7abb6-0303-478d-b9a2-1b6d0a626313",
   "metadata": {},
   "source": [
    "The else Statement"
   ]
  },
  {
   "cell_type": "code",
   "execution_count": 13,
   "id": "332cd380-050f-4bb2-af12-6374200bcd74",
   "metadata": {},
   "outputs": [
    {
     "name": "stdout",
     "output_type": "stream",
     "text": [
      "1\n",
      "2\n",
      "3\n",
      "4\n",
      "5\n",
      "i is no longer less than 6\n"
     ]
    }
   ],
   "source": [
    "i = 1\n",
    "while i < 6:\n",
    "  print(i)\n",
    "  i += 1\n",
    "else:\n",
    "  print(\"i is no longer less than 6\")"
   ]
  },
  {
   "cell_type": "markdown",
   "id": "dd7e28cf-eb01-4d27-b802-e4bb1fb43635",
   "metadata": {},
   "source": [
    "Python For Loops"
   ]
  },
  {
   "cell_type": "code",
   "execution_count": 16,
   "id": "9a41a8e2-62a0-4fa0-b584-84246b422728",
   "metadata": {},
   "outputs": [
    {
     "name": "stdout",
     "output_type": "stream",
     "text": [
      "apple\n",
      "banana\n",
      "cherry\n"
     ]
    }
   ],
   "source": [
    "fruits = [\"apple\", \"banana\", \"cherry\"]\n",
    "for x in fruits:\n",
    "  print(x)"
   ]
  },
  {
   "cell_type": "markdown",
   "id": "ca991425-81c5-4656-9a6f-61e13c06cc1a",
   "metadata": {},
   "source": [
    "Looping Through a String"
   ]
  },
  {
   "cell_type": "code",
   "execution_count": 19,
   "id": "9074f9e8-152c-4a8b-8a89-0d493d4cfe4c",
   "metadata": {},
   "outputs": [
    {
     "name": "stdout",
     "output_type": "stream",
     "text": [
      "b\n",
      "a\n",
      "n\n",
      "a\n",
      "n\n",
      "a\n"
     ]
    }
   ],
   "source": [
    "for x in \"banana\":\n",
    "  print(x)"
   ]
  },
  {
   "cell_type": "markdown",
   "id": "3c333c46-09c8-45f5-93d7-f52353a41c89",
   "metadata": {},
   "source": [
    "The break Statement"
   ]
  },
  {
   "cell_type": "code",
   "execution_count": 23,
   "id": "8de9a047-fcce-42e8-85ba-19e44bd95f1e",
   "metadata": {},
   "outputs": [
    {
     "name": "stdout",
     "output_type": "stream",
     "text": [
      "apple\n",
      "banana\n"
     ]
    }
   ],
   "source": [
    "#Exit the loop when x is \"banana\":\n",
    "\n",
    "fruits = [\"apple\", \"banana\", \"cherry\"]\n",
    "for x in fruits:\n",
    "  print(x) \n",
    "  if x == \"banana\":\n",
    "    break"
   ]
  },
  {
   "cell_type": "code",
   "execution_count": 25,
   "id": "1f7944d6-e305-4ce5-9b01-2e817ee660be",
   "metadata": {},
   "outputs": [
    {
     "name": "stdout",
     "output_type": "stream",
     "text": [
      "apple\n"
     ]
    }
   ],
   "source": [
    "fruits = [\"apple\", \"banana\", \"cherry\"]\n",
    "for x in fruits:\n",
    "  if x == \"banana\":\n",
    "    break\n",
    "  print(x)"
   ]
  },
  {
   "cell_type": "markdown",
   "id": "0ccdefe3-c587-4e18-991a-1b8a5abbeedb",
   "metadata": {},
   "source": [
    "The continue Statement"
   ]
  },
  {
   "cell_type": "code",
   "execution_count": 29,
   "id": "acf410b8-838b-4bbd-a574-2e21d388e972",
   "metadata": {},
   "outputs": [
    {
     "name": "stdout",
     "output_type": "stream",
     "text": [
      "apple\n",
      "cherry\n"
     ]
    }
   ],
   "source": [
    "fruits = [\"apple\", \"banana\", \"cherry\"]\n",
    "for x in fruits:\n",
    "  if x == \"banana\":\n",
    "    continue\n",
    "  print(x)"
   ]
  },
  {
   "cell_type": "markdown",
   "id": "71ddead8-e8a2-4496-90f7-5b381930fe43",
   "metadata": {},
   "source": [
    "The range() Function"
   ]
  },
  {
   "cell_type": "code",
   "execution_count": 33,
   "id": "e15b439c-4e0e-4fe5-850d-12e4a5c016a2",
   "metadata": {},
   "outputs": [
    {
     "name": "stdout",
     "output_type": "stream",
     "text": [
      "2\n",
      "3\n",
      "4\n",
      "5\n"
     ]
    }
   ],
   "source": [
    "for x in range(2, 6):\n",
    "  print(x)"
   ]
  },
  {
   "cell_type": "code",
   "execution_count": 35,
   "id": "a95d601d-2ff4-41c0-b623-8f5351229dd7",
   "metadata": {},
   "outputs": [
    {
     "name": "stdout",
     "output_type": "stream",
     "text": [
      "2\n",
      "5\n",
      "8\n",
      "11\n",
      "14\n",
      "17\n",
      "20\n",
      "23\n",
      "26\n",
      "29\n"
     ]
    }
   ],
   "source": [
    "for x in range(2, 30, 3):\n",
    "  print(x)"
   ]
  },
  {
   "cell_type": "markdown",
   "id": "bfdffd0e-c82c-49b1-9b13-38461075594e",
   "metadata": {},
   "source": [
    "Else in For Loop"
   ]
  },
  {
   "cell_type": "code",
   "execution_count": 39,
   "id": "8d7df53e-e91a-4f7c-a130-23d6cb9c9f74",
   "metadata": {},
   "outputs": [
    {
     "name": "stdout",
     "output_type": "stream",
     "text": [
      "0\n",
      "1\n",
      "2\n",
      "3\n",
      "4\n",
      "5\n",
      "Finally finished!\n"
     ]
    }
   ],
   "source": [
    "for x in range(6):\n",
    "  print(x)\n",
    "else:\n",
    "  print(\"Finally finished!\")"
   ]
  },
  {
   "cell_type": "code",
   "execution_count": 41,
   "id": "a9fa9115-33d6-4e4c-97fb-a6e822e43e5f",
   "metadata": {},
   "outputs": [
    {
     "name": "stdout",
     "output_type": "stream",
     "text": [
      "0\n",
      "1\n",
      "2\n"
     ]
    }
   ],
   "source": [
    "for x in range(6):\n",
    "  if x == 3: break\n",
    "  print(x)\n",
    "else:\n",
    "  print(\"Finally finished!\")"
   ]
  },
  {
   "cell_type": "markdown",
   "id": "42b23760-2852-4594-9e37-60f338d6380c",
   "metadata": {},
   "source": [
    "Nested Loops\n"
   ]
  },
  {
   "cell_type": "code",
   "execution_count": 45,
   "id": "6d507e5b-6041-46ac-8b80-a7e7d0263d17",
   "metadata": {},
   "outputs": [
    {
     "name": "stdout",
     "output_type": "stream",
     "text": [
      "red apple\n",
      "red banana\n",
      "red cherry\n",
      "big apple\n",
      "big banana\n",
      "big cherry\n",
      "tasty apple\n",
      "tasty banana\n",
      "tasty cherry\n"
     ]
    }
   ],
   "source": [
    "adj = [\"red\", \"big\", \"tasty\"]\n",
    "fruits = [\"apple\", \"banana\", \"cherry\"]\n",
    "\n",
    "for x in adj:\n",
    "  for y in fruits:\n",
    "    print(x, y)"
   ]
  },
  {
   "cell_type": "markdown",
   "id": "c4b2ea7e-50b3-450d-b13f-14bf545ef3f6",
   "metadata": {},
   "source": [
    "The pass Statement"
   ]
  },
  {
   "cell_type": "code",
   "execution_count": null,
   "id": "33d669de-2baa-44bb-96da-07bfb8e01b14",
   "metadata": {},
   "outputs": [],
   "source": [
    "for x in [0, 1, 2]:\n",
    "  pass"
   ]
  },
  {
   "cell_type": "code",
   "execution_count": null,
   "id": "2ca31536-4482-4aeb-af11-7cfeb6985334",
   "metadata": {},
   "outputs": [],
   "source": []
  }
 ],
 "metadata": {
  "kernelspec": {
   "display_name": "Python [conda env:base] *",
   "language": "python",
   "name": "conda-base-py"
  },
  "language_info": {
   "codemirror_mode": {
    "name": "ipython",
    "version": 3
   },
   "file_extension": ".py",
   "mimetype": "text/x-python",
   "name": "python",
   "nbconvert_exporter": "python",
   "pygments_lexer": "ipython3",
   "version": "3.12.7"
  }
 },
 "nbformat": 4,
 "nbformat_minor": 5
}
