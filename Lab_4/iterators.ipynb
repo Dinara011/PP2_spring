{
 "cells": [
  {
   "cell_type": "markdown",
   "id": "574c1601-d030-4a54-824c-bd6a01c1502e",
   "metadata": {},
   "source": [
    "iterator vs iterable"
   ]
  },
  {
   "cell_type": "code",
   "execution_count": 5,
   "id": "6d8270dd-4d71-49e4-a55f-b785b50960e9",
   "metadata": {},
   "outputs": [
    {
     "name": "stdout",
     "output_type": "stream",
     "text": [
      "apple\n",
      "banana\n",
      "cherry\n"
     ]
    }
   ],
   "source": [
    "mytuple = (\"apple\",\"banana\",\"cherry\")\n",
    "myit=iter(mytuple)\n",
    "print(next(myit))\n",
    "print(next(myit))\n",
    "print(next(myit))"
   ]
  },
  {
   "cell_type": "code",
   "execution_count": 7,
   "id": "26eb4cb6-a4f9-4aad-902b-2c3d950d2138",
   "metadata": {},
   "outputs": [
    {
     "name": "stdout",
     "output_type": "stream",
     "text": [
      "b\n",
      "a\n",
      "n\n",
      "a\n",
      "n\n",
      "a\n"
     ]
    }
   ],
   "source": [
    "#strings are also iterable objects,containg a sequence of characters\n",
    "mystr = \"banana\"\n",
    "myit=iter(mystr)\n",
    "print(next(myit))\n",
    "print(next(myit))\n",
    "print(next(myit))\n",
    "print(next(myit))\n",
    "print(next(myit))\n",
    "print(next(myit))\n"
   ]
  },
  {
   "cell_type": "markdown",
   "id": "58ceea77-7321-44df-bb59-3ff9e6959603",
   "metadata": {},
   "source": [
    "Looping Through an iterator"
   ]
  },
  {
   "cell_type": "code",
   "execution_count": 12,
   "id": "f33ff05f-a4d4-4683-822d-08dfe40ea128",
   "metadata": {},
   "outputs": [
    {
     "name": "stdout",
     "output_type": "stream",
     "text": [
      "apple\n",
      "banana\n",
      "cherry\n"
     ]
    }
   ],
   "source": [
    "#Iterate the values of a tuple:\n",
    "mytuple = (\"apple\",\"banana\",\"cherry\")\n",
    "for x in mytuple:\n",
    "         print(x)"
   ]
  },
  {
   "cell_type": "code",
   "execution_count": 14,
   "id": "d3a8871e-f250-4c72-9032-0d52ab089920",
   "metadata": {},
   "outputs": [
    {
     "name": "stdout",
     "output_type": "stream",
     "text": [
      "b\n",
      "a\n",
      "n\n",
      "a\n",
      "n\n",
      "a\n"
     ]
    }
   ],
   "source": [
    "#iterator the characters a string:\n",
    "mystr = \"banana\"\n",
    "for x in mystr:\n",
    "    print(x)"
   ]
  },
  {
   "cell_type": "markdown",
   "id": "bdf551cb-e20b-459f-bfc1-7498c9b405d7",
   "metadata": {},
   "source": [
    "Create an iterator"
   ]
  },
  {
   "cell_type": "code",
   "execution_count": 17,
   "id": "df2b5156-9739-4a28-a930-d014e509acfe",
   "metadata": {},
   "outputs": [
    {
     "name": "stdout",
     "output_type": "stream",
     "text": [
      "1\n",
      "2\n",
      "3\n",
      "4\n",
      "5\n"
     ]
    }
   ],
   "source": [
    "class MyNumbers:\n",
    "  def __iter__(self):\n",
    "    self.a = 1\n",
    "    return self\n",
    "\n",
    "  def __next__(self):\n",
    "    x = self.a\n",
    "    self.a += 1\n",
    "    return x\n",
    "\n",
    "myclass = MyNumbers()\n",
    "myiter = iter(myclass)\n",
    "\n",
    "print(next(myiter))\n",
    "print(next(myiter))\n",
    "print(next(myiter))\n",
    "print(next(myiter))\n",
    "print(next(myiter))"
   ]
  },
  {
   "cell_type": "markdown",
   "id": "7f48e829-ad01-4136-be35-44662a982612",
   "metadata": {},
   "source": [
    "Stopiteration\n"
   ]
  },
  {
   "cell_type": "code",
   "execution_count": 20,
   "id": "fef3c736-df67-4ec7-a286-15406c282149",
   "metadata": {},
   "outputs": [
    {
     "name": "stdout",
     "output_type": "stream",
     "text": [
      "1\n",
      "2\n",
      "3\n",
      "4\n",
      "5\n",
      "6\n",
      "7\n",
      "8\n",
      "9\n",
      "10\n",
      "11\n",
      "12\n",
      "13\n",
      "14\n",
      "15\n",
      "16\n",
      "17\n",
      "18\n",
      "19\n",
      "20\n"
     ]
    }
   ],
   "source": [
    "class MyNumbers:\n",
    "  def __iter__(self):\n",
    "    self.a = 1\n",
    "    return self\n",
    "\n",
    "  def __next__(self):\n",
    "    if self.a <= 20:\n",
    "      x = self.a\n",
    "      self.a += 1\n",
    "      return x\n",
    "    else:\n",
    "      raise StopIteration\n",
    "\n",
    "myclass = MyNumbers()\n",
    "myiter = iter(myclass)\n",
    "\n",
    "for x in myiter:\n",
    "  print(x)"
   ]
  },
  {
   "cell_type": "markdown",
   "id": "e22522bd-cebf-41bc-85c8-7eb4336031c3",
   "metadata": {},
   "source": []
  },
  {
   "cell_type": "code",
   "execution_count": null,
   "id": "b2270f66-1ff8-4818-b82e-00080bb2d394",
   "metadata": {},
   "outputs": [],
   "source": []
  }
 ],
 "metadata": {
  "kernelspec": {
   "display_name": "Python [conda env:base] *",
   "language": "python",
   "name": "conda-base-py"
  },
  "language_info": {
   "codemirror_mode": {
    "name": "ipython",
    "version": 3
   },
   "file_extension": ".py",
   "mimetype": "text/x-python",
   "name": "python",
   "nbconvert_exporter": "python",
   "pygments_lexer": "ipython3",
   "version": "3.12.7"
  }
 },
 "nbformat": 4,
 "nbformat_minor": 5
}
