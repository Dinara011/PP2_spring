{
 "cells": [
  {
   "cell_type": "markdown",
   "id": "74190b91-a469-43fd-937b-7a3c52dbff67",
   "metadata": {},
   "source": [
    "Local Scope"
   ]
  },
  {
   "cell_type": "code",
   "execution_count": 2,
   "id": "b049644d-4ee1-49bc-8696-4ec46ce504b2",
   "metadata": {},
   "outputs": [
    {
     "name": "stdout",
     "output_type": "stream",
     "text": [
      "300\n"
     ]
    }
   ],
   "source": [
    "def myfunc():\n",
    "  x = 300\n",
    "  print(x)\n",
    "\n",
    "myfunc()"
   ]
  },
  {
   "cell_type": "markdown",
   "id": "6c1f78b9-2f1c-44d6-b649-0d6075bc3f41",
   "metadata": {},
   "source": [
    "Function Inside Function"
   ]
  },
  {
   "cell_type": "code",
   "execution_count": 5,
   "id": "66c0b580-7e9b-46b7-ab0a-fad4feec737c",
   "metadata": {},
   "outputs": [
    {
     "name": "stdout",
     "output_type": "stream",
     "text": [
      "300\n"
     ]
    }
   ],
   "source": [
    "def myfunc():\n",
    "  x = 300\n",
    "  def myinnerfunc():\n",
    "    print(x)\n",
    "  myinnerfunc()\n",
    "\n",
    "myfunc()"
   ]
  },
  {
   "cell_type": "markdown",
   "id": "e4fd3626-f691-4dea-9727-36b2f0806732",
   "metadata": {},
   "source": [
    "Global Scope"
   ]
  },
  {
   "cell_type": "code",
   "execution_count": 9,
   "id": "6c5a639d-36e8-4e09-8e84-eeaa95baff87",
   "metadata": {},
   "outputs": [
    {
     "name": "stdout",
     "output_type": "stream",
     "text": [
      "300\n",
      "300\n"
     ]
    }
   ],
   "source": [
    "x = 300\n",
    "\n",
    "def myfunc():\n",
    "  print(x)\n",
    "\n",
    "myfunc()\n",
    "\n",
    "print(x)"
   ]
  },
  {
   "cell_type": "markdown",
   "id": "96564c02-fd41-45de-a69d-cd45ed02bd11",
   "metadata": {},
   "source": [
    "Naming Variables"
   ]
  },
  {
   "cell_type": "code",
   "execution_count": 12,
   "id": "1d307a53-9dbf-4ded-9374-9c93ef95132a",
   "metadata": {},
   "outputs": [
    {
     "name": "stdout",
     "output_type": "stream",
     "text": [
      "200\n",
      "300\n"
     ]
    }
   ],
   "source": [
    "x = 300\n",
    "\n",
    "def myfunc():\n",
    "  x = 200\n",
    "  print(x)\n",
    "\n",
    "myfunc()\n",
    "\n",
    "print(x)"
   ]
  },
  {
   "cell_type": "markdown",
   "id": "eb8bcf1e-c00e-4dc3-9782-a9063323de31",
   "metadata": {},
   "source": [
    "Global Keyword"
   ]
  },
  {
   "cell_type": "code",
   "execution_count": 15,
   "id": "03134133-70ac-473e-aaef-d188ab92fda8",
   "metadata": {},
   "outputs": [
    {
     "name": "stdout",
     "output_type": "stream",
     "text": [
      "300\n"
     ]
    }
   ],
   "source": [
    "def myfunc():\n",
    "  global x\n",
    "  x = 300\n",
    "\n",
    "myfunc()\n",
    "\n",
    "print(x)"
   ]
  },
  {
   "cell_type": "code",
   "execution_count": 17,
   "id": "fa19f197-bb12-4646-be41-d4b7206f444f",
   "metadata": {},
   "outputs": [
    {
     "name": "stdout",
     "output_type": "stream",
     "text": [
      "200\n"
     ]
    }
   ],
   "source": [
    "x = 300\n",
    "\n",
    "def myfunc():\n",
    "  global x\n",
    "  x = 200\n",
    "\n",
    "myfunc()\n",
    "\n",
    "print(x)"
   ]
  },
  {
   "cell_type": "markdown",
   "id": "97282496-b039-4cdf-b8d1-93b2b7faa216",
   "metadata": {},
   "source": [
    "Nonlocal Keyword"
   ]
  },
  {
   "cell_type": "code",
   "execution_count": 20,
   "id": "b7f47aa4-9539-4239-a3d0-96710c7baa4c",
   "metadata": {},
   "outputs": [
    {
     "name": "stdout",
     "output_type": "stream",
     "text": [
      "hello\n"
     ]
    }
   ],
   "source": [
    "def myfunc1():\n",
    "  x = \"Jane\"\n",
    "  def myfunc2():\n",
    "    nonlocal x\n",
    "    x = \"hello\"\n",
    "  myfunc2()\n",
    "  return x\n",
    "\n",
    "print(myfunc1())"
   ]
  },
  {
   "cell_type": "code",
   "execution_count": null,
   "id": "4389adda-1243-4648-b0a8-972842dedb7a",
   "metadata": {},
   "outputs": [],
   "source": []
  }
 ],
 "metadata": {
  "kernelspec": {
   "display_name": "Python [conda env:base] *",
   "language": "python",
   "name": "conda-base-py"
  },
  "language_info": {
   "codemirror_mode": {
    "name": "ipython",
    "version": 3
   },
   "file_extension": ".py",
   "mimetype": "text/x-python",
   "name": "python",
   "nbconvert_exporter": "python",
   "pygments_lexer": "ipython3",
   "version": "3.12.7"
  }
 },
 "nbformat": 4,
 "nbformat_minor": 5
}
