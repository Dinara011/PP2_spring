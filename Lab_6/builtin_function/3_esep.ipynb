{
 "cells": [
  {
   "cell_type": "code",
   "execution_count": 2,
   "id": "2c41ad89-29f3-4b40-87a0-2374ff5beacc",
   "metadata": {},
   "outputs": [
    {
     "name": "stdin",
     "output_type": "stream",
     "text": [
      "Жолды енгізіңіз:  vuyf;i\n"
     ]
    },
    {
     "name": "stdout",
     "output_type": "stream",
     "text": [
      "Бұл жолдық мән палиндром емес.\n"
     ]
    }
   ],
   "source": [
    "def is_palindrome(s):\n",
    "    return s == \"\".join(reversed(s))  # Жолды кері аударып, бастапқымен салыстырамыз\n",
    "\n",
    "# Пайдаланушыдан енгізу аламыз\n",
    "string = input(\"Жолды енгізіңіз: \")\n",
    "\n",
    "# Нәтижені шығару\n",
    "if is_palindrome(string):\n",
    "    print(\"Бұл жолдық мән палиндром.\")\n",
    "else:\n",
    "    print(\"Бұл жолдық мән палиндром емес.\")\n"
   ]
  },
  {
   "cell_type": "code",
   "execution_count": null,
   "id": "8e23f3cc-38e9-4f22-86d2-a1b00b7e0a38",
   "metadata": {},
   "outputs": [],
   "source": []
  },
  {
   "cell_type": "code",
   "execution_count": null,
   "id": "4482d8e5-d699-43c6-a8f9-48320670e532",
   "metadata": {},
   "outputs": [],
   "source": []
  }
 ],
 "metadata": {
  "kernelspec": {
   "display_name": "Python [conda env:base] *",
   "language": "python",
   "name": "conda-base-py"
  },
  "language_info": {
   "codemirror_mode": {
    "name": "ipython",
    "version": 3
   },
   "file_extension": ".py",
   "mimetype": "text/x-python",
   "name": "python",
   "nbconvert_exporter": "python",
   "pygments_lexer": "ipython3",
   "version": "3.12.7"
  }
 },
 "nbformat": 4,
 "nbformat_minor": 5
}
