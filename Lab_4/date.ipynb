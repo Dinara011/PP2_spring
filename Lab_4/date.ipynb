{
 "cells": [
  {
   "cell_type": "markdown",
   "id": "93abbba8-05bf-45f0-82be-5e3414ed14a4",
   "metadata": {},
   "source": [
    "Python Dates"
   ]
  },
  {
   "cell_type": "code",
   "execution_count": 2,
   "id": "92cf4a6d-fe85-435c-8afa-1d2bb2045d54",
   "metadata": {},
   "outputs": [
    {
     "name": "stdout",
     "output_type": "stream",
     "text": [
      "2025-02-12 11:54:29.347788\n"
     ]
    }
   ],
   "source": [
    "import datetime\n",
    "\n",
    "x = datetime.datetime.now()\n",
    "print(x)"
   ]
  },
  {
   "cell_type": "markdown",
   "id": "7bfbef8e-6f44-487d-a489-b0b3aaea2a0a",
   "metadata": {},
   "source": [
    "Date Output"
   ]
  },
  {
   "cell_type": "code",
   "execution_count": 7,
   "id": "db3a5501-c150-4f48-8e7f-1569f2751edd",
   "metadata": {},
   "outputs": [
    {
     "name": "stdout",
     "output_type": "stream",
     "text": [
      "2025\n",
      "Wednesday\n"
     ]
    }
   ],
   "source": [
    "import datetime\n",
    "\n",
    "x = datetime.datetime.now()\n",
    "\n",
    "print(x.year)\n",
    "print(x.strftime(\"%A\"))"
   ]
  },
  {
   "cell_type": "markdown",
   "id": "8bf3e56b-b42c-4759-bcfd-045f42f32dc1",
   "metadata": {},
   "source": [
    "Creating Date Objects"
   ]
  },
  {
   "cell_type": "code",
   "execution_count": 10,
   "id": "a8fcfa5c-b233-4937-83bf-4c4de8a7d015",
   "metadata": {},
   "outputs": [
    {
     "name": "stdout",
     "output_type": "stream",
     "text": [
      "2020-05-17 00:00:00\n"
     ]
    }
   ],
   "source": [
    "import datetime\n",
    "\n",
    "x = datetime.datetime(2020, 5, 17)\n",
    "\n",
    "print(x)"
   ]
  },
  {
   "cell_type": "markdown",
   "id": "2352d253-6a21-4c40-a34b-e760bdb9f688",
   "metadata": {},
   "source": [
    "The strftime() Method"
   ]
  },
  {
   "cell_type": "code",
   "execution_count": 13,
   "id": "4fcc0b38-c2d3-4b36-b12b-a9efdda204c2",
   "metadata": {},
   "outputs": [
    {
     "name": "stdout",
     "output_type": "stream",
     "text": [
      "June\n"
     ]
    }
   ],
   "source": [
    "import datetime\n",
    "\n",
    "x = datetime.datetime(2018, 6, 1)\n",
    "\n",
    "print(x.strftime(\"%B\"))"
   ]
  },
  {
   "cell_type": "code",
   "execution_count": null,
   "id": "cee1f410-359f-42fc-9f29-31f41466ec25",
   "metadata": {},
   "outputs": [],
   "source": []
  }
 ],
 "metadata": {
  "kernelspec": {
   "display_name": "Python [conda env:base] *",
   "language": "python",
   "name": "conda-base-py"
  },
  "language_info": {
   "codemirror_mode": {
    "name": "ipython",
    "version": 3
   },
   "file_extension": ".py",
   "mimetype": "text/x-python",
   "name": "python",
   "nbconvert_exporter": "python",
   "pygments_lexer": "ipython3",
   "version": "3.12.7"
  }
 },
 "nbformat": 4,
 "nbformat_minor": 5
}
