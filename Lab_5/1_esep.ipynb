{
 "cells": [
  {
   "cell_type": "markdown",
   "id": "ce883334-63cd-49aa-93e5-8b669da9f2e6",
   "metadata": {},
   "source": [
    "Write a Python program that matches a string that has an `'a'` followed by zero or more `'b'`'s."
   ]
  },
  {
   "cell_type": "code",
   "execution_count": 2,
   "id": "497e4cad-cfa7-427b-b6e8-ecc1a2325d39",
   "metadata": {},
   "outputs": [
    {
     "name": "stdin",
     "output_type": "stream",
     "text": [
      " aaabbb\n"
     ]
    },
    {
     "name": "stdout",
     "output_type": "stream",
     "text": [
      "False\n"
     ]
    }
   ],
   "source": [
    "import re\n",
    "text = input()\n",
    "pattern = r\"ab*\"\n",
    "print(bool(re.fullmatch(pattern, text)))"
   ]
  },
  {
   "cell_type": "code",
   "execution_count": null,
   "id": "a855abd3-d26c-4e9c-aaee-d6655b77d340",
   "metadata": {},
   "outputs": [],
   "source": []
  }
 ],
 "metadata": {
  "kernelspec": {
   "display_name": "Python [conda env:base] *",
   "language": "python",
   "name": "conda-base-py"
  },
  "language_info": {
   "codemirror_mode": {
    "name": "ipython",
    "version": 3
   },
   "file_extension": ".py",
   "mimetype": "text/x-python",
   "name": "python",
   "nbconvert_exporter": "python",
   "pygments_lexer": "ipython3",
   "version": "3.12.7"
  }
 },
 "nbformat": 4,
 "nbformat_minor": 5
}
