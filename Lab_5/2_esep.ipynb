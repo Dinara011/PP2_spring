{
 "cells": [
  {
   "cell_type": "markdown",
   "id": "de1adfc1-1c1d-439a-b19a-fadd41315e3f",
   "metadata": {},
   "source": [
    "Write a Python program that matches a string that has an `'a'` followed by two to three `'b'`."
   ]
  },
  {
   "cell_type": "code",
   "execution_count": 7,
   "id": "a5de35f5-dd4c-437a-bfe8-831fdcc20b6c",
   "metadata": {},
   "outputs": [
    {
     "name": "stdin",
     "output_type": "stream",
     "text": [
      " aaabb\n"
     ]
    },
    {
     "name": "stdout",
     "output_type": "stream",
     "text": [
      "False\n"
     ]
    }
   ],
   "source": [
    "import re\n",
    "text = input()\n",
    "pattern = r\"ab{2,3}$\" \n",
    "print(bool(re.fullmatch(pattern, text)))"
   ]
  },
  {
   "cell_type": "code",
   "execution_count": null,
   "id": "b0c6fa96-d2a1-457c-a96a-bfb89cb95e71",
   "metadata": {},
   "outputs": [],
   "source": []
  }
 ],
 "metadata": {
  "kernelspec": {
   "display_name": "Python [conda env:base] *",
   "language": "python",
   "name": "conda-base-py"
  },
  "language_info": {
   "codemirror_mode": {
    "name": "ipython",
    "version": 3
   },
   "file_extension": ".py",
   "mimetype": "text/x-python",
   "name": "python",
   "nbconvert_exporter": "python",
   "pygments_lexer": "ipython3",
   "version": "3.12.7"
  }
 },
 "nbformat": 4,
 "nbformat_minor": 5
}
