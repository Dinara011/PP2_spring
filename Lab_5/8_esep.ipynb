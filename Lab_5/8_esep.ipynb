{
 "cells": [
  {
   "cell_type": "markdown",
   "id": "54fcdd69-168a-4b8f-9276-999bfce52017",
   "metadata": {},
   "source": [
    "Write a Python program to split a string at uppercase letters."
   ]
  },
  {
   "cell_type": "code",
   "execution_count": null,
   "id": "71ae1a5d-2cd4-4be1-9e55-56517f23e6d0",
   "metadata": {},
   "outputs": [],
   "source": [
    "import re\n",
    "text = input()\n",
    "print(' '.join(re.findall(r'[A-Z][a-z]*', text)))"
   ]
  },
  {
   "cell_type": "code",
   "execution_count": null,
   "id": "c47b4cde-b3db-43a1-ab95-dc8900446be0",
   "metadata": {},
   "outputs": [],
   "source": []
  }
 ],
 "metadata": {
  "kernelspec": {
   "display_name": "Python [conda env:base] *",
   "language": "python",
   "name": "conda-base-py"
  },
  "language_info": {
   "codemirror_mode": {
    "name": "ipython",
    "version": 3
   },
   "file_extension": ".py",
   "mimetype": "text/x-python",
   "name": "python",
   "nbconvert_exporter": "python",
   "pygments_lexer": "ipython3",
   "version": "3.12.7"
  }
 },
 "nbformat": 4,
 "nbformat_minor": 5
}
